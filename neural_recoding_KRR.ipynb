{
 "cells": [
  {
   "cell_type": "markdown",
   "metadata": {
    "toc": true
   },
   "source": [
    "<h1>Table of Contents<span class=\"tocSkip\"></span></h1>\n",
    "<div class=\"toc\"><ul class=\"toc-item\"><li><ul class=\"toc-item\"><li><ul class=\"toc-item\"><li><span><a href=\"#whether-you-use-pomdp-data\" data-toc-modified-id=\"whether-you-use-pomdp-data-0.0.1\"><span class=\"toc-item-num\">0.0.1&nbsp;&nbsp;</span>whether you use pomdp data</a></span></li></ul></li></ul></li><li><span><a href=\"#KRR-regression\" data-toc-modified-id=\"KRR-regression-1\"><span class=\"toc-item-num\">1&nbsp;&nbsp;</span>KRR regression</a></span><ul class=\"toc-item\"><li><span><a href=\"#neural-data\" data-toc-modified-id=\"neural-data-1.1\"><span class=\"toc-item-num\">1.1&nbsp;&nbsp;</span>neural data</a></span><ul class=\"toc-item\"><li><span><a href=\"#there-are-3-types-of-data:-test-data,-train-data,-validation-data\" data-toc-modified-id=\"there-are-3-types-of-data:-test-data,-train-data,-validation-data-1.1.1\"><span class=\"toc-item-num\">1.1.1&nbsp;&nbsp;</span>there are 3 types of data: test data, train data, validation data</a></span></li><li><span><a href=\"#evaluate-model-with-test-data\" data-toc-modified-id=\"evaluate-model-with-test-data-1.1.2\"><span class=\"toc-item-num\">1.1.2&nbsp;&nbsp;</span>evaluate model with test data</a></span></li></ul></li><li><span><a href=\"#behavior-data\" data-toc-modified-id=\"behavior-data-1.2\"><span class=\"toc-item-num\">1.2&nbsp;&nbsp;</span>behavior data</a></span><ul class=\"toc-item\"><li><span><a href=\"#there-are-3-types-of-data:-test-data,-train-data,-validation-data\" data-toc-modified-id=\"there-are-3-types-of-data:-test-data,-train-data,-validation-data-1.2.1\"><span class=\"toc-item-num\">1.2.1&nbsp;&nbsp;</span>there are 3 types of data: test data, train data, validation data</a></span></li><li><span><a href=\"#evaluate-model-with-test-data\" data-toc-modified-id=\"evaluate-model-with-test-data-1.2.2\"><span class=\"toc-item-num\">1.2.2&nbsp;&nbsp;</span>evaluate model with test data</a></span></li></ul></li><li><span><a href=\"#compare-neural-and-behavior-beleifs\" data-toc-modified-id=\"compare-neural-and-behavior-beleifs-1.3\"><span class=\"toc-item-num\">1.3&nbsp;&nbsp;</span>compare neural and behavior beleifs</a></span></li></ul></li></ul></div>"
   ]
  },
  {
   "cell_type": "code",
   "execution_count": 1,
   "metadata": {},
   "outputs": [
    {
     "data": {
      "text/plain": [
       "'\\nupdated 08/15/2019 by Zhengwei\\n\\nDo decoding for both neural data (belief decoded from neural activity) and behavior data (beleif inferred from IRC)\\ncompare delta b: f(b, o) - b for each case\\n\\n- In k-fold, the iterations should be only from X_train instead of X\\n'"
      ]
     },
     "execution_count": 1,
     "metadata": {},
     "output_type": "execute_result"
    }
   ],
   "source": [
    "\"\"\"\n",
    "updated 08/15/2019 by Zhengwei\n",
    "\n",
    "Do decoding for both neural data (belief decoded from neural activity) and behavior data (beleif inferred from IRC)\n",
    "compare delta b: f(b, o) - b for each case\n",
    "\n",
    "- In k-fold, the iterations should be only from X_train instead of X\n",
    "\"\"\"\n"
   ]
  },
  {
   "cell_type": "code",
   "execution_count": null,
   "metadata": {},
   "outputs": [],
   "source": []
  },
  {
   "cell_type": "code",
   "execution_count": 2,
   "metadata": {},
   "outputs": [],
   "source": [
    "\"\"\"\n",
    "updated 2019-08-07 \n",
    "written by Minhae Kwon\n",
    "\n",
    "\n",
    "- `recoding`: Estimate the next belief from current belief and observations\n",
    "    - input:\n",
    "        - if you use POMDP data (for now): `recoding_pomdp_all_prev_df.csv` and `recoding_pomdp_all_now_df.csv`\n",
    "        - ideally with neural data: `recoding_neural_all_prev_df.csv` and `recoding_neural_all_now_df.csv`\n",
    "    - output: `recoding_belief_results_df.csv` (estimated future belief)\n",
    "    - method: Autoregression - this is linear regression between two time steps. \n",
    "    - there are two versions in codes:\n",
    "        -`recoding_wo_RBF.ipynb`: no RBF is used. \n",
    "        - `recoding_KRR.ipynb`: RBF is used using sklearn built-in function: [Kernel Ridge Regression (kernel ='rbf')](https://scikit-learn.org/stable/modules/generated/sklearn.kernel_ridge.KernelRidge.html). \n",
    "        (Warning: this code runs pretty slow compared to others. So if you need to handle big data size, plan in advance!)\n",
    "        - `recoding_manualRBF.ipynb`: RBF is manually coded by me. So we can customize center locations for nonlinear transform. \n",
    "        Everything is the same as `recoding_wo_RBF.ipynb` but RBF.\n",
    "        - `recoding_KRR.ipynb` works the best, and pretty good!\n",
    "        \n",
    "        \n",
    "ref: https://towardsdatascience.com/ridge-and-lasso-regression-a-complete-guide-with-python-scikit-learn-e20e34bcbf0b\n",
    "https://scikit-learn.org/stable/modules/generated/sklearn.kernel_ridge.KernelRidge.html\n",
    "https://scikit-learn.org/stable/modules/linear_model.html#ridge-regression\n",
    "https://scikit-learn.org/stable/auto_examples/plot_kernel_ridge_regression.html#sphx-glr-auto-examples-plot-kernel-ridge-regression-py\n",
    "\n",
    "\n",
    "ref: https://chrisalbon.com/machine_learning/linear_regression/linear_regression_using_scikit-learn/\n",
    "     https://datatofish.com/multiple-linear-regression-python/\n",
    "\n",
    "cross validate score: Coefficient of determination\n",
    "https://en.wikipedia.org/wiki/Coefficient_of_determination\n",
    "\"\"\"\n",
    "\n",
    "from pandas import DataFrame, read_csv\n",
    "#from sklearn.preprocessing import StandardScaler\n",
    "from sklearn.linear_model import LinearRegression\n",
    "from sklearn.model_selection import train_test_split\n",
    "from sklearn.model_selection import cross_val_score, StratifiedKFold\n",
    "from sklearn.model_selection import StratifiedKFold\n",
    "from sklearn.metrics import r2_score\n",
    "from sklearn.kernel_ridge import KernelRidge\n",
    "import numpy as np\n",
    "import matplotlib.pyplot as plt\n",
    "import matplotlib as mpl\n",
    "mpl.rcParams['pdf.fonttype'] = 42\n",
    "mpl.rcParams['ps.fonttype'] = 42\n",
    "\n",
    "\n",
    "POMDP = False\n",
    "TEST_SIZE = 0.2  # ratio of test data set \n",
    "N_SPLITS = 2 # \"K\" in K-fold cross validation \n",
    "\n"
   ]
  },
  {
   "cell_type": "code",
   "execution_count": 3,
   "metadata": {},
   "outputs": [],
   "source": [
    "import matplotlib as mpl\n",
    "import matplotlib.pyplot as plt\n",
    "# pdf.fontype and ps.fontype must be set to 42 in order for text in exported figure to be editable in Adobe Illustrator\n",
    "mpl.rcParams['pdf.fonttype'] = 42\n",
    "mpl.rcParams['ps.fonttype'] = 42\n",
    "\n",
    "plt.rcParams[\"font.family\"] = \"CMU Serif\"\n",
    "\n",
    "\n"
   ]
  },
  {
   "cell_type": "code",
   "execution_count": 4,
   "metadata": {},
   "outputs": [],
   "source": [
    "\"\"\"\n",
    "color code for color cues\n",
    "\"\"\"\n",
    "rgb = [[255, 0, 0],\n",
    "       [255/4*3, 0, 255/4*1],\n",
    "       [255/4*2, 0, 255/4*2],\n",
    "       [255/4*1, 0, 255/4*3],\n",
    "       [0, 0, 255]\n",
    "      ] \n",
    "rgb=np.array(rgb)/255.\n"
   ]
  },
  {
   "cell_type": "markdown",
   "metadata": {},
   "source": [
    "### whether you use pomdp data"
   ]
  },
  {
   "cell_type": "code",
   "execution_count": 5,
   "metadata": {},
   "outputs": [],
   "source": [
    "if POMDP == True:\n",
    "    bb_df_prev = read_csv('./data/recoding_pomdp_all_prev_df.csv')\n",
    "    bb_df_now = read_csv('./data/recoding_pomdp_all_now_df.csv')\n",
    "else: #neural data\n",
    "    nb_df_prev = read_csv('./data/recoding_neural_all_prev_df.csv') \n",
    "    nb_df_now = read_csv('./data/recoding_neural_all_now_df.csv')\n",
    "    bb_df_prev = read_csv('./data/recoding_IRC_all_prev_df.csv') \n",
    "    bb_df_now = read_csv('./data/recoding_IRC_all_now_df.csv')\n",
    "    \"belief data is from IRC (bb)\"\n",
    "    \"neural data is from nn, beliefs of nn (nb)\"\n",
    "    "
   ]
  },
  {
   "cell_type": "code",
   "execution_count": 6,
   "metadata": {},
   "outputs": [
    {
     "data": {
      "text/html": [
       "<div>\n",
       "<style scoped>\n",
       "    .dataframe tbody tr th:only-of-type {\n",
       "        vertical-align: middle;\n",
       "    }\n",
       "\n",
       "    .dataframe tbody tr th {\n",
       "        vertical-align: top;\n",
       "    }\n",
       "\n",
       "    .dataframe thead th {\n",
       "        text-align: right;\n",
       "    }\n",
       "</style>\n",
       "<table border=\"1\" class=\"dataframe\">\n",
       "  <thead>\n",
       "    <tr style=\"text-align: right;\">\n",
       "      <th></th>\n",
       "      <th>behavior_belief1</th>\n",
       "      <th>behavior_belief2</th>\n",
       "      <th>action</th>\n",
       "      <th>location</th>\n",
       "      <th>color 1</th>\n",
       "      <th>color 2</th>\n",
       "    </tr>\n",
       "  </thead>\n",
       "  <tbody>\n",
       "    <tr>\n",
       "      <th>0</th>\n",
       "      <td>0.05</td>\n",
       "      <td>0.05</td>\n",
       "      <td>1.0</td>\n",
       "      <td>1.0</td>\n",
       "      <td>4.0</td>\n",
       "      <td>3.0</td>\n",
       "    </tr>\n",
       "    <tr>\n",
       "      <th>1</th>\n",
       "      <td>0.25</td>\n",
       "      <td>0.25</td>\n",
       "      <td>0.0</td>\n",
       "      <td>0.0</td>\n",
       "      <td>3.0</td>\n",
       "      <td>2.0</td>\n",
       "    </tr>\n",
       "    <tr>\n",
       "      <th>2</th>\n",
       "      <td>0.25</td>\n",
       "      <td>0.75</td>\n",
       "      <td>0.0</td>\n",
       "      <td>0.0</td>\n",
       "      <td>3.0</td>\n",
       "      <td>1.0</td>\n",
       "    </tr>\n",
       "    <tr>\n",
       "      <th>3</th>\n",
       "      <td>0.45</td>\n",
       "      <td>0.55</td>\n",
       "      <td>0.0</td>\n",
       "      <td>0.0</td>\n",
       "      <td>2.0</td>\n",
       "      <td>3.0</td>\n",
       "    </tr>\n",
       "    <tr>\n",
       "      <th>4</th>\n",
       "      <td>0.75</td>\n",
       "      <td>0.35</td>\n",
       "      <td>1.0</td>\n",
       "      <td>0.0</td>\n",
       "      <td>0.0</td>\n",
       "      <td>3.0</td>\n",
       "    </tr>\n",
       "  </tbody>\n",
       "</table>\n",
       "</div>"
      ],
      "text/plain": [
       "   behavior_belief1  behavior_belief2  action  location  color 1  color 2\n",
       "0              0.05              0.05     1.0       1.0      4.0      3.0\n",
       "1              0.25              0.25     0.0       0.0      3.0      2.0\n",
       "2              0.25              0.75     0.0       0.0      3.0      1.0\n",
       "3              0.45              0.55     0.0       0.0      2.0      3.0\n",
       "4              0.75              0.35     1.0       0.0      0.0      3.0"
      ]
     },
     "execution_count": 6,
     "metadata": {},
     "output_type": "execute_result"
    }
   ],
   "source": [
    "bb_df_prev.head()"
   ]
  },
  {
   "cell_type": "code",
   "execution_count": 7,
   "metadata": {},
   "outputs": [
    {
     "data": {
      "text/html": [
       "<div>\n",
       "<style scoped>\n",
       "    .dataframe tbody tr th:only-of-type {\n",
       "        vertical-align: middle;\n",
       "    }\n",
       "\n",
       "    .dataframe tbody tr th {\n",
       "        vertical-align: top;\n",
       "    }\n",
       "\n",
       "    .dataframe thead th {\n",
       "        text-align: right;\n",
       "    }\n",
       "</style>\n",
       "<table border=\"1\" class=\"dataframe\">\n",
       "  <thead>\n",
       "    <tr style=\"text-align: right;\">\n",
       "      <th></th>\n",
       "      <th>neural_belief1</th>\n",
       "      <th>neural_belief2</th>\n",
       "      <th>action</th>\n",
       "      <th>location</th>\n",
       "      <th>color 1</th>\n",
       "      <th>color 2</th>\n",
       "    </tr>\n",
       "  </thead>\n",
       "  <tbody>\n",
       "    <tr>\n",
       "      <th>0</th>\n",
       "      <td>0.069135</td>\n",
       "      <td>0.116308</td>\n",
       "      <td>1.0</td>\n",
       "      <td>1.0</td>\n",
       "      <td>4.0</td>\n",
       "      <td>3.0</td>\n",
       "    </tr>\n",
       "    <tr>\n",
       "      <th>1</th>\n",
       "      <td>0.012221</td>\n",
       "      <td>0.489555</td>\n",
       "      <td>0.0</td>\n",
       "      <td>0.0</td>\n",
       "      <td>3.0</td>\n",
       "      <td>2.0</td>\n",
       "    </tr>\n",
       "    <tr>\n",
       "      <th>2</th>\n",
       "      <td>0.064539</td>\n",
       "      <td>0.612227</td>\n",
       "      <td>0.0</td>\n",
       "      <td>0.0</td>\n",
       "      <td>3.0</td>\n",
       "      <td>1.0</td>\n",
       "    </tr>\n",
       "    <tr>\n",
       "      <th>3</th>\n",
       "      <td>0.325286</td>\n",
       "      <td>0.485357</td>\n",
       "      <td>0.0</td>\n",
       "      <td>0.0</td>\n",
       "      <td>2.0</td>\n",
       "      <td>3.0</td>\n",
       "    </tr>\n",
       "    <tr>\n",
       "      <th>4</th>\n",
       "      <td>0.687029</td>\n",
       "      <td>0.439921</td>\n",
       "      <td>1.0</td>\n",
       "      <td>0.0</td>\n",
       "      <td>0.0</td>\n",
       "      <td>3.0</td>\n",
       "    </tr>\n",
       "  </tbody>\n",
       "</table>\n",
       "</div>"
      ],
      "text/plain": [
       "   neural_belief1  neural_belief2  action  location  color 1  color 2\n",
       "0        0.069135        0.116308     1.0       1.0      4.0      3.0\n",
       "1        0.012221        0.489555     0.0       0.0      3.0      2.0\n",
       "2        0.064539        0.612227     0.0       0.0      3.0      1.0\n",
       "3        0.325286        0.485357     0.0       0.0      2.0      3.0\n",
       "4        0.687029        0.439921     1.0       0.0      0.0      3.0"
      ]
     },
     "execution_count": 7,
     "metadata": {},
     "output_type": "execute_result"
    }
   ],
   "source": [
    "nb_df_prev.head()"
   ]
  },
  {
   "cell_type": "code",
   "execution_count": null,
   "metadata": {},
   "outputs": [],
   "source": []
  },
  {
   "cell_type": "code",
   "execution_count": 8,
   "metadata": {},
   "outputs": [],
   "source": [
    "sensory_cue_prev = nb_df_prev[['color 1', 'color 2']].to_numpy()\n",
    "sensory_cue_now = nb_df_now[['color 1', 'color 2']].to_numpy()\n",
    "action_prev = nb_df_prev[['action']].to_numpy()"
   ]
  },
  {
   "cell_type": "code",
   "execution_count": 9,
   "metadata": {},
   "outputs": [],
   "source": [
    "X_neural = nb_df_prev.to_numpy()#[:10000]\n",
    "y_neural = nb_df_now[['neural_belief1', 'neural_belief2']].to_numpy()#[:10000]"
   ]
  },
  {
   "cell_type": "code",
   "execution_count": 10,
   "metadata": {},
   "outputs": [],
   "source": [
    "X_behavior = bb_df_prev.to_numpy()#[:10000]\n",
    "y_behavior = bb_df_now[['behavior_belief1', 'behavior_belief2']].to_numpy()#[:10000]"
   ]
  },
  {
   "cell_type": "code",
   "execution_count": 11,
   "metadata": {},
   "outputs": [],
   "source": [
    "X = np.hstack((X_neural, X_behavior))\n",
    "y = np.hstack((y_neural, y_behavior))"
   ]
  },
  {
   "cell_type": "code",
   "execution_count": 12,
   "metadata": {},
   "outputs": [
    {
     "data": {
      "text/plain": [
       "<matplotlib.collections.PathCollection at 0x11d645780>"
      ]
     },
     "execution_count": 12,
     "metadata": {},
     "output_type": "execute_result"
    },
    {
     "data": {
      "image/png": "[encoded data removed]",
      "text/plain": [
       "<Figure size 432x288 with 1 Axes>"
      ]
     },
     "metadata": {},
     "output_type": "display_data"
    }
   ],
   "source": [
    "#plt.scatter(sensory_cue_now[:, 0] - sensory_cue_prev[:, 0], X_behavior[:, 0] - X_behavior[:,1])"
   ]
  },
  {
   "cell_type": "code",
   "execution_count": 13,
   "metadata": {},
   "outputs": [
    {
     "data": {
      "text/plain": [
       "array([[1.        , 0.22783926],\n",
       "       [0.22783926, 1.        ]])"
      ]
     },
     "execution_count": 13,
     "metadata": {},
     "output_type": "execute_result"
    }
   ],
   "source": [
    "np.corrcoef(sensory_cue_now[:, 0] - sensory_cue_prev[:, 0], X_behavior[:, 0] - X_behavior[:,1])"
   ]
  },
  {
   "cell_type": "markdown",
   "metadata": {},
   "source": [
    "# KRR regression"
   ]
  },
  {
   "cell_type": "code",
   "execution_count": 14,
   "metadata": {},
   "outputs": [],
   "source": [
    "# separate test data set\n",
    "X_train, X_test, y_train, y_test = train_test_split(X, y, test_size=TEST_SIZE, random_state = 1)"
   ]
  },
  {
   "cell_type": "code",
   "execution_count": 15,
   "metadata": {},
   "outputs": [
    {
     "data": {
      "text/plain": [
       "(15999, 4)"
      ]
     },
     "execution_count": 15,
     "metadata": {},
     "output_type": "execute_result"
    }
   ],
   "source": [
    "y_train.shape"
   ]
  },
  {
   "cell_type": "code",
   "execution_count": 16,
   "metadata": {},
   "outputs": [],
   "source": [
    "X_neural_train = X_train[:, :6]\n",
    "X_neural_test  = X_test[:, :6]\n",
    "y_neural_train = y_train[:, :2]\n",
    "y_neural_test = y_test[:, :2]\n",
    "\n",
    "X_behavior_train = X_train[:, 6:]\n",
    "X_behavior_test  = X_test[:, 6:]\n",
    "y_behavior_train = y_train[:, 2:]\n",
    "y_behavior_test = y_test[:, 2:]"
   ]
  },
  {
   "cell_type": "code",
   "execution_count": 17,
   "metadata": {},
   "outputs": [],
   "source": [
    "# separate test data set\n",
    "#X_neural_train, X_neural_test, y_neural_train, y_neural_test = train_test_split(X_neural, y_neural, test_size=TEST_SIZE, random_state = 1)"
   ]
  },
  {
   "cell_type": "markdown",
   "metadata": {},
   "source": [
    "## neural data"
   ]
  },
  {
   "cell_type": "markdown",
   "metadata": {},
   "source": [
    "### there are 3 types of data: test data, train data, validation data"
   ]
  },
  {
   "cell_type": "code",
   "execution_count": 18,
   "metadata": {},
   "outputs": [],
   "source": [
    "#regr = LinearRegression() # linear regression is used for encoding process\n",
    "regr_neural = KernelRidge(alpha=0.01, gamma=0.1, kernel='rbf') # linear regression(small gamma) with RBF kernel"
   ]
  },
  {
   "cell_type": "code",
   "execution_count": 19,
   "metadata": {},
   "outputs": [],
   "source": [
    "# now we use only train data \n",
    "# why use StratifiedKFold?: The folds are made by preserving the percentage of samples for each class.\n",
    "k_fold = StratifiedKFold(n_splits=N_SPLITS) # seperate train data and validation data"
   ]
  },
  {
   "cell_type": "code",
   "execution_count": 20,
   "metadata": {},
   "outputs": [],
   "source": [
    "# # why argmax(1)? split cannot simply handle multidimension y. \n",
    "# # ref: https://stackoverflow.com/questions/48508036/sklearn-stratifiedkfold-valueerror-supported-target-types-are-binary-mul\n",
    "# for i, (train_index, val_index) in enumerate(k_fold.split(X_train, y_train.argmax(1))):\n",
    "#     x_train_kf, x_val_kf = X_neural[train_index], X_neural[val_index]\n",
    "#     y_train_kf, y_val_kf = y_neural[train_index], y_neural[val_index]\n",
    "#     regr_neural.fit(x_train_kf, y_train_kf) # fit the model\n",
    "#     pred = regr_neural.predict(x_val_kf) # predict based on current model -> use validation data for evaluation\n",
    "#     print('score', r2_score(y_val_kf, pred, multioutput='raw_values')) # get r2 score\n",
    "\n",
    "# score [0.56573623 0.50791511]\n",
    "# score [0.62221081 0.62508066]"
   ]
  },
  {
   "cell_type": "code",
   "execution_count": 21,
   "metadata": {},
   "outputs": [
    {
     "name": "stdout",
     "output_type": "stream",
     "text": [
      "score [0.69999572 0.80987989]\n",
      "score [0.69371744 0.80821933]\n"
     ]
    }
   ],
   "source": [
    "# why argmax(1)? split cannot simply handle multidimension y. \n",
    "# ref: https://stackoverflow.com/questions/48508036/sklearn-stratifiedkfold-valueerror-supported-target-types-are-binary-mul\n",
    "for i, (train_index, val_index) in enumerate(k_fold.split(X_neural_train, y_neural_train.argmax(1))):\n",
    "    x_train_kf, x_val_kf = X_neural_train[train_index], X_neural_train[val_index]\n",
    "    y_train_kf, y_val_kf = y_neural_train[train_index], y_neural_train[val_index]\n",
    "    regr_neural.fit(x_train_kf, y_train_kf) # fit the model\n",
    "    pred = regr_neural.predict(x_val_kf) # predict based on current model -> use validation data for evaluation\n",
    "    print('score', r2_score(y_val_kf, pred, multioutput='raw_values')) # get r2 score\n"
   ]
  },
  {
   "cell_type": "code",
   "execution_count": 22,
   "metadata": {},
   "outputs": [],
   "source": [
    "# # why argmax(1)? split cannot simply handle multidimension y. \n",
    "# # ref: https://stackoverflow.com/questions/48508036/sklearn-stratifiedkfold-valueerror-supported-target-types-are-binary-mul\n",
    "# for i, (train_index, val_index) in enumerate(k_fold.split(X_neural, y_neural.argmax(1))):\n",
    "#     x_train_kf, x_val_kf = X_neural[train_index], X_neural[val_index]\n",
    "#     y_train_kf, y_val_kf = y_neural[train_index], y_neural[val_index]\n",
    "#     regr_neural.fit(x_train_kf, y_train_kf) # fit the model\n",
    "#     pred = regr_neural.predict(x_val_kf) # predict based on current model -> use validation data for evaluation\n",
    "#     print('score', r2_score(y_val_kf, pred, multioutput='raw_values')) # get r2 score"
   ]
  },
  {
   "cell_type": "code",
   "execution_count": 23,
   "metadata": {},
   "outputs": [],
   "source": [
    "# model parameter\n",
    "# print(regr_neural.dual_coef_.shape)\n",
    "# print(regr_neural.dual_coef_)"
   ]
  },
  {
   "cell_type": "markdown",
   "metadata": {},
   "source": [
    "### evaluate model with test data"
   ]
  },
  {
   "cell_type": "code",
   "execution_count": 24,
   "metadata": {},
   "outputs": [
    {
     "name": "stdout",
     "output_type": "stream",
     "text": [
      "Mean squared error: \n",
      " [0.0133077  0.01374159]\n",
      "squared error std:\n",
      " [0.01755265 0.01764982]\n",
      "score [0.71842511 0.81776844]\n"
     ]
    }
   ],
   "source": [
    "predic_X_neural_test = regr_neural.predict(X_neural_test)\n",
    "\n",
    "recoding_error = (y_neural_test - predic_X_neural_test)**2 # true - estimate\n",
    "print('Mean squared error: \\n', np.mean(recoding_error, axis=0))\n",
    "print('squared error std:\\n', np.std(recoding_error, axis=0))\n",
    "print('score', r2_score(y_neural_test, predic_X_neural_test, multioutput='raw_values'))"
   ]
  },
  {
   "cell_type": "code",
   "execution_count": 25,
   "metadata": {},
   "outputs": [],
   "source": [
    "predic_X_df_test = DataFrame(predic_X_neural_test, columns = ['neural_belief1', 'neural_belief2']) "
   ]
  },
  {
   "cell_type": "code",
   "execution_count": 26,
   "metadata": {
    "scrolled": true
   },
   "outputs": [],
   "source": [
    "# # plot: compare raw data vs prediction\n",
    "# plt.hist2d(y_neural_test[:,0], predic_X_neural_test[:,0], bins=(10, 10), cmap=plt.cm.Greys)\n",
    "# plt.colorbar()\n",
    "# plt.xlabel('true belief')\n",
    "# plt.ylabel('estimated belief')\n",
    "# plt.title('Recoding: test data BOX1')\n",
    "# #plt.savefig('./figures/recoding_KRR_box1.eps', format = 'eps')\n"
   ]
  },
  {
   "cell_type": "code",
   "execution_count": 27,
   "metadata": {},
   "outputs": [],
   "source": [
    "# # plot: compare raw data vs prediction\n",
    "# #plt.scatter(a_df_test, a_dec_test, s=0.005, c='blue', marker='o')\n",
    "# plt.hist2d(y_neural_test[:,1], predic_X_neural_test[:,1], bins=(10, 10), cmap=plt.cm.Greys)\n",
    "# plt.colorbar()\n",
    "# plt.xlabel('true belief')\n",
    "# plt.ylabel('estimated belief')\n",
    "# plt.title('Recoding: test data BOX2')\n",
    "# #plt.savefig('./figures/recoding_KRR_box2.eps', format = 'eps')\n"
   ]
  },
  {
   "cell_type": "code",
   "execution_count": 28,
   "metadata": {},
   "outputs": [],
   "source": [
    "# line_x = np.linspace(0,1,num=11)\n",
    "# line_y = np.linspace(0,1,num=11)\n",
    "\n",
    "\n",
    "# # plot: compare raw data vs prediction\n",
    "# plt.scatter(y_neural_test[:,0], predic_X_neural_test[:,0], s=3, c='blue', marker='o')\n",
    "# plt.plot(line_x, line_y,c='k')\n",
    "# plt.xlabel('true')\n",
    "# plt.ylabel('prediction')\n",
    "# plt.title('Recoding: behavior belief for box1')\n",
    "# plt.show()\n",
    "\n",
    "# plt.scatter(y_neural_test[:,1], predic_X_neural_test[:,1], s=3, c='blue', marker='o')\n",
    "# plt.plot(line_x, line_y,c='k')\n",
    "# plt.xlabel('true')\n",
    "# plt.ylabel('prediction')\n",
    "# plt.title('Recoding: behavior belief for box2')\n",
    "# plt.show()"
   ]
  },
  {
   "cell_type": "code",
   "execution_count": null,
   "metadata": {},
   "outputs": [],
   "source": []
  },
  {
   "cell_type": "markdown",
   "metadata": {},
   "source": [
    "## behavior data"
   ]
  },
  {
   "cell_type": "markdown",
   "metadata": {},
   "source": [
    "### there are 3 types of data: test data, train data, validation data"
   ]
  },
  {
   "cell_type": "code",
   "execution_count": 29,
   "metadata": {},
   "outputs": [],
   "source": [
    "# # separate test data set\n",
    "# X_train, X_test, y_train, y_test = train_test_split(X_behavior, y_behavior, test_size=TEST_SIZE, random_state = 1)"
   ]
  },
  {
   "cell_type": "code",
   "execution_count": 30,
   "metadata": {},
   "outputs": [],
   "source": [
    "#regr = LinearRegression() # linear regression is used for encoding process\n",
    "regr_behavior = KernelRidge(alpha=0.01, gamma=0.1, kernel='rbf') # linear regression(small gamma) with RBF kernel"
   ]
  },
  {
   "cell_type": "code",
   "execution_count": 31,
   "metadata": {},
   "outputs": [],
   "source": [
    "# now we use only train data \n",
    "# why use StratifiedKFold?: The folds are made by preserving the percentage of samples for each class.\n",
    "k_fold = StratifiedKFold(n_splits=N_SPLITS) # seperate train data and validation data"
   ]
  },
  {
   "cell_type": "code",
   "execution_count": 32,
   "metadata": {},
   "outputs": [
    {
     "name": "stdout",
     "output_type": "stream",
     "text": [
      "score [0.68984174 0.79711955]\n",
      "score [0.68327304 0.7958195 ]\n"
     ]
    }
   ],
   "source": [
    "# why argmax(1)? split cannot simply handle multidimension y. \n",
    "# ref: https://stackoverflow.com/questions/48508036/sklearn-stratifiedkfold-valueerror-supported-target-types-are-binary-mul\n",
    "for i, (train_index, val_index) in enumerate(k_fold.split(X_behavior_train, y_behavior_train.argmax(1))):\n",
    "    x_train_kf, x_val_kf = X_behavior_train[train_index], X_behavior_train[val_index]\n",
    "    y_train_kf, y_val_kf = y_behavior_train[train_index], y_behavior_train[val_index]\n",
    "    regr_behavior.fit(x_train_kf, y_train_kf) # fit the model\n",
    "    pred = regr_behavior.predict(x_val_kf) # predict based on current model -> use validation data for evaluation\n",
    "    print('score', r2_score(y_val_kf, pred, multioutput='raw_values')) # get r2 score"
   ]
  },
  {
   "cell_type": "code",
   "execution_count": 33,
   "metadata": {},
   "outputs": [],
   "source": [
    "# model parameter\n",
    "# print(regr_behavior.dual_coef_.shape)\n",
    "# print(regr_behavior.dual_coef_)"
   ]
  },
  {
   "cell_type": "markdown",
   "metadata": {},
   "source": [
    "### evaluate model with test data"
   ]
  },
  {
   "cell_type": "code",
   "execution_count": 34,
   "metadata": {},
   "outputs": [
    {
     "name": "stdout",
     "output_type": "stream",
     "text": [
      "Mean squared error: \n",
      " [0.01489304 0.01501121]\n",
      "squared error std:\n",
      " [0.02073934 0.02195573]\n",
      "score [0.69821728 0.80640847]\n"
     ]
    }
   ],
   "source": [
    "predic_X_behavior_test = regr_behavior.predict(X_behavior_test)\n",
    "\n",
    "recoding_error = (y_behavior_test - predic_X_behavior_test)**2 # true - estimate\n",
    "print('Mean squared error: \\n', np.mean(recoding_error, axis=0))\n",
    "print('squared error std:\\n', np.std(recoding_error, axis=0))\n",
    "print('score', r2_score(y_behavior_test, predic_X_behavior_test, multioutput='raw_values'))"
   ]
  },
  {
   "cell_type": "code",
   "execution_count": 35,
   "metadata": {},
   "outputs": [],
   "source": [
    "predic_X_df_test = DataFrame(predic_X_behavior_test, columns = ['behavior_belief1', 'behavior_belief2']) "
   ]
  },
  {
   "cell_type": "code",
   "execution_count": 36,
   "metadata": {
    "scrolled": true
   },
   "outputs": [],
   "source": [
    "# # plot: compare raw data vs prediction\n",
    "# plt.hist2d(y_test[:,0], predic_X_test[:,0], bins=(10, 10), cmap=plt.cm.Greys)\n",
    "# plt.colorbar()\n",
    "# plt.xlabel('true belief')\n",
    "# plt.ylabel('estimated belief')\n",
    "# plt.title('Recoding: test data BOX1')\n",
    "# #plt.savefig('./figures/recoding_KRR_box1.eps', format = 'eps')\n"
   ]
  },
  {
   "cell_type": "code",
   "execution_count": 37,
   "metadata": {},
   "outputs": [],
   "source": [
    "# # plot: compare raw data vs prediction\n",
    "# #plt.scatter(a_df_test, a_dec_test, s=0.005, c='blue', marker='o')\n",
    "# plt.hist2d(y_test[:,1], predic_X_test[:,1], bins=(10, 10), cmap=plt.cm.Greys)\n",
    "# plt.colorbar()\n",
    "# plt.xlabel('true belief')\n",
    "# plt.ylabel('estimated belief')\n",
    "# plt.title('Recoding: test data BOX2')\n",
    "# #plt.savefig('./figures/recoding_KRR_box2.eps', format = 'eps')\n"
   ]
  },
  {
   "cell_type": "code",
   "execution_count": 38,
   "metadata": {},
   "outputs": [],
   "source": [
    "# line_x = np.linspace(0,1,num=11)\n",
    "# line_y = np.linspace(0,1,num=11)\n",
    "\n",
    "\n",
    "# # plot: compare raw data vs prediction\n",
    "# plt.scatter(y_test[:,0], predic_X_test[:,0], s=3, c='blue', marker='o')\n",
    "# plt.plot(line_x, line_y,c='k')\n",
    "# plt.xlabel('true')\n",
    "# plt.ylabel('prediction')\n",
    "# plt.title('Recoding: behavior belief for box1')\n",
    "# plt.show()\n",
    "\n",
    "# plt.scatter(y_test[:,1], predic_X_test[:,1], s=3, c='blue', marker='o')\n",
    "# plt.plot(line_x, line_y,c='k')\n",
    "# plt.xlabel('true')\n",
    "# plt.ylabel('prediction')\n",
    "# plt.title('Recoding: behavior belief for box2')\n",
    "# plt.show()"
   ]
  },
  {
   "cell_type": "code",
   "execution_count": 39,
   "metadata": {},
   "outputs": [],
   "source": [
    "# # plot changes\n",
    "# line_x = np.linspace(-.8,.8,num=11)\n",
    "# line_y = np.linspace(-.8,.8,num=11)\n",
    "\n",
    "# true_change = (y_behavior - X_behavior[:,:2])\n",
    "# predic_X = regr_behavior.predict(X_behavior) # all data\n",
    "# predicted_change = (predic_X - X_behavior[:,:2])\n",
    "\n",
    "# plt.scatter(true_change[:,0], predicted_change[:,0])\n",
    "# plt.plot(line_x, line_y,c='k')\n",
    "# plt.xlabel('$b_{t+1}-b_t$')\n",
    "# plt.ylabel('$f(b_t, o_t)-b_t$')\n",
    "# plt.title('BOX1')\n",
    "# #plt.savefig('./figures/recoding_DELTA_KRR_box1.eps', format = 'eps')\n",
    "\n",
    "\n",
    "# plt.figure()\n",
    "# plt.scatter(true_change[:,1], predicted_change[:,1])\n",
    "# plt.xlabel('$b_{t+1}-b_t$')\n",
    "# plt.ylabel('$f(b_t, o_t)-b_t$')\n",
    "# plt.plot(line_x, line_y,c='k')\n",
    "# plt.title('BOX2')\n",
    "# #plt.savefig('./figures/recoding_DELTA_KRR_box2.eps', format = 'eps')"
   ]
  },
  {
   "cell_type": "markdown",
   "metadata": {},
   "source": [
    "## compare neural and behavior beleifs"
   ]
  },
  {
   "cell_type": "code",
   "execution_count": 40,
   "metadata": {},
   "outputs": [],
   "source": [
    "colors = ['g', 'c', 'b', 'r', 'm']\n",
    "markers = ['.', '*', 'x', '+', '>']\n",
    "\n",
    "na = 5\n",
    "NumCol = 5"
   ]
  },
  {
   "cell_type": "code",
   "execution_count": 41,
   "metadata": {},
   "outputs": [],
   "source": [
    "# # plot changes\n",
    "# line_x = np.linspace(-.8,.8,num=11)\n",
    "# line_y = np.linspace(-.8,.8,num=11)\n",
    "\n",
    "# true_change = (y_neural - X_neural[:,:2])\n",
    "# predic_X = regr_neural.predict(X_neural) # all data\n",
    "# predicted_change = (predic_X - X_neural[:,:2])\n",
    "\n",
    "# plt.scatter(true_change[:,0], predicted_change[:,0])\n",
    "# plt.plot(line_x, line_y,c='k')\n",
    "# plt.xlabel('$\\check{b}_{t+1}-\\check{b}_t$')\n",
    "# plt.ylabel('$\\check{f}(\\check{b}_t, o_t)-\\check{b}_t$')\n",
    "# plt.title('box1')\n",
    "# #plt.savefig('./figures/recoding_DELTA_KRR_box1.eps', format = 'eps')\n",
    "\n",
    "\n",
    "# plt.figure()\n",
    "# plt.scatter(true_change[:,1], predicted_change[:,1])\n",
    "# plt.xlabel('$\\check{b}_{t+1}-\\check{b}_t$')\n",
    "# plt.ylabel('$\\check{f}(\\check{b}_t, o_t)-\\check{b}_t$')\n",
    "# plt.plot(line_x, line_y,c='k')\n",
    "# plt.title('bxo2')\n",
    "# #plt.savefig('./figures/recoding_DELTA_KRR_box2.eps', format = 'eps')"
   ]
  },
  {
   "cell_type": "code",
   "execution_count": 42,
   "metadata": {},
   "outputs": [],
   "source": [
    "# # plot changes\n",
    "# line_x = np.linspace(-.8,.8,num=11)\n",
    "# line_y = np.linspace(-.8,.8,num=11)\n",
    "\n",
    "# true_change = (y_behavior - X_behavior[:,:2])\n",
    "# predic_X = regr_behavior.predict(X_behavior) # all data\n",
    "# predicted_change = (predic_X - X_behavior[:,:2])\n",
    "\n",
    "# plt.scatter(true_change[:,0], predicted_change[:,0])\n",
    "# plt.plot(line_x, line_y,c='k')\n",
    "# plt.xlabel('$\\hat{b}_{t+1}-\\hat{b}_t$')\n",
    "# plt.ylabel('$\\hat{f}(\\hat{b}_t, o_t)-\\hat{b}_t$')\n",
    "\n",
    "# plt.title('BOX1')\n",
    "# #plt.savefig('./figures/recoding_DELTA_KRR_box1.eps', format = 'eps')\n",
    "\n",
    "\n",
    "# plt.figure()\n",
    "# plt.scatter(true_change[:,1], predicted_change[:,1])\n",
    "# plt.xlabel('$\\hat{b}_{t+1}-\\hat{b}_t$')\n",
    "# plt.ylabel('$\\hat{f}(\\hat{b}_t, o_t)-\\hat{b}_t$')\n",
    "# plt.plot(line_x, line_y,c='k')\n",
    "# plt.title('BOX2')\n",
    "# #plt.savefig('./figures/recoding_DELTA_KRR_box2.eps', format = 'eps')"
   ]
  },
  {
   "cell_type": "code",
   "execution_count": 43,
   "metadata": {},
   "outputs": [],
   "source": [
    "# # plot changes\n",
    "# line_x = np.linspace(-.9,.9,num=11)\n",
    "# line_y = np.linspace(-.9,.9,num=11)\n",
    "\n",
    "# true_change = (y_neural - X_neural[:,:2])\n",
    "# predic_X = regr_neural.predict(X_neural) # all data\n",
    "# predicted_change = (predic_X - X_neural[:,:2])\n",
    "\n",
    "\n",
    "# fig_recoding_delta_neural, ax = plt.subplots(1,2,figsize=(15,7))\n",
    "# plt.suptitle('comparison of neural belief change', fontsize = 24)\n",
    "# fig_recoding_delta_neural.tight_layout(rect=[0, 0, 0.9, 0.9])\n",
    "\n",
    "\n",
    "# h = [[] for i in range(na*NumCol)]\n",
    "# idx_col_act = [[] for i in range(na*NumCol)]\n",
    "# for i in range(na):\n",
    "#     for j in range(NumCol):\n",
    "#         idx_act = np.where(action_prev[:,0] == i)[0]\n",
    "#         idx_col = np.where(sensory_cue_prev[:,0] == j)[0]\n",
    "#         idx_col_act[i * NumCol + j] = list(np.intersect1d(idx_act, idx_col))\n",
    "\n",
    "#         h[i * NumCol + j] = ax[0].scatter(true_change[idx_col_act[i * NumCol + j],0] \n",
    "#                                           + 0.04 * (2 * np.random.random(true_change[idx_col_act[i * NumCol + j],0].shape) - 1), \n",
    "#                                           predicted_change[idx_col_act[i * NumCol + j],0], \n",
    "#                                           color = colors[j], marker = markers[i])\n",
    "# ax[0].plot(line_x, line_y,c='k')\n",
    "# ax[0].set(xlim = [-1, 1], ylim = [-1, 1],xticks=[-1, 0, 1], yticks = [-1, 0, 1])\n",
    "# ax[0].tick_params(labelsize=14)\n",
    "# ax[0].set_title('box1', fontsize = 20.0)\n",
    "\n",
    "# g = [[] for i in range(na*NumCol)]\n",
    "# idx_col_act = [[] for i in range(na*NumCol)]\n",
    "# for i in range(na):\n",
    "#     for j in range(NumCol):\n",
    "#         idx_act = np.where(action_prev[:,0] == i)[0]\n",
    "#         idx_col = np.where(sensory_cue_prev[:,0] == j)[0]\n",
    "#         idx_col_act[i * NumCol + j] = list(np.intersect1d(idx_act, idx_col))\n",
    "\n",
    "#         g[i * NumCol + j] = ax[1].scatter(true_change[idx_col_act[i * NumCol + j],1]\n",
    "#                                           + 0.04 * (2 * np.random.random(true_change[idx_col_act[i * NumCol + j], 1].shape) - 1), \n",
    "#                                           predicted_change[idx_col_act[i * NumCol + j],1], \n",
    "#                                           color = colors[j], marker = markers[i])\n",
    "\n",
    "# ax[1].plot(line_x, line_y,c='k')\n",
    "# ax[1].set(xlim = [-1, 1], ylim = [-1, 1],xticks=[-1, 0, 1], yticks = [-1, 0, 1])\n",
    "# ax[1].tick_params(labelsize=14)\n",
    "# ax[1].set_title('box2', fontsize = 20.0)\n",
    "# #ax[1].set_xlabel('$\\hat{b}_{t+1}-\\hat{b}_t$', fontsize = 16)\n",
    "# #ax[1].set_ylabel('$\\hat{f}(\\hat{b}_t, o_t)-\\hat{b}_t$', fontsize = 16)\n",
    "\n",
    "\n",
    "# ax[1].legend(g, ['color1, do nothing',   'color2, do nothing',   'color3, do nothing',   'color4, do nothing',   'color5, do nothing',\n",
    "#                  'color1, go to center', 'color2, go to center', 'color3, go to center', 'color4, go to center', 'color5, go to center',\n",
    "#                  'color1, go to box1',   'color2, go to box1',   'color3, go to box1',   'color4, action 3',     'color5, action 3',\n",
    "#                  'color1, go to box2',   'color2, go to box2',   'color3, go to box2',   'color4, action 4',     'color5, action 4',\n",
    "#                  'color1, press button', 'color2, press button', 'color3, press button', 'color4, press button', 'color5, press button'],\n",
    "#              bbox_to_anchor=(1.1, 1.05), fontsize = 14)\n",
    "\n",
    "\n",
    "\n",
    "# fig=ax[0].figure\n",
    "# fig.text(0.45, -0.02, '$\\check{b}_{t+1}-\\check{b}_t$', va='center', ha='center', fontsize = 16)\n",
    "# fig.text(-0.02, 0.5, '$\\check{f}(\\check{b}_t, o_t)-\\check{b}_t$', va='center', ha='center', rotation='vertical', fontsize = 16)\n",
    "# #fig_recoding_delta_neural.savefig('figures/recoding_delta_neural.pdf', format = 'pdf', bbox_inches=\"tight\")\n",
    "\n",
    "\n"
   ]
  },
  {
   "cell_type": "code",
   "execution_count": 44,
   "metadata": {},
   "outputs": [],
   "source": [
    "# # plot changes\n",
    "# line_x = np.linspace(-.9,.9,num=11)\n",
    "# line_y = np.linspace(-.9,.9,num=11)\n",
    "\n",
    "# #behavior_change = (regr_behavior.predict(X_behavior) - X_behavior[:,:2])\n",
    "# #neural_change = (regr_neural.predict(X_neural) - X_neural[:,:2])\n",
    "\n",
    "# true_change = (y_behavior - X_behavior[:,:2])\n",
    "# predic_X = regr_behavior.predict(X_behavior) # all data\n",
    "# predicted_change = (predic_X - X_behavior[:,:2])\n",
    "\n",
    "# fig_recoding_delta_behavior_jitter, ax = plt.subplots(1,2,figsize=(15,7))\n",
    "# plt.suptitle('comparison of behavior belief change', fontsize = 24)\n",
    "# fig_recoding_delta_behavior_jitter.tight_layout(rect=[0, 0, 0.9, 0.9])\n",
    "\n",
    "# h = [[] for i in range(na*NumCol)]\n",
    "# idx_col_act = [[] for i in range(na*NumCol)]\n",
    "# for i in range(na):\n",
    "#     for j in range(NumCol):\n",
    "#         idx_act = np.where(action_prev[:,0] == i)[0]\n",
    "#         idx_col = np.where(sensory_cue_prev[:,0] == j)[0]\n",
    "#         idx_col_act[i * NumCol + j] = list(np.intersect1d(idx_act, idx_col))\n",
    "\n",
    "#         h[i * NumCol + j] = ax[0].scatter(true_change[idx_col_act[i * NumCol + j],0] \n",
    "#                                           + 0.04 * (2 * np.random.random(true_change[idx_col_act[i * NumCol + j],0].shape) - 1), \n",
    "#                                           predicted_change[idx_col_act[i * NumCol + j],0], \n",
    "#                                           color = colors[j], marker = markers[i])\n",
    "# ax[0].plot(line_x, line_y,c='k')\n",
    "# ax[0].set(xlim = [-1, 1], ylim = [-1, 1],xticks=[-1, 0, 1], yticks = [-1, 0, 1])\n",
    "# ax[0].tick_params(labelsize=14)\n",
    "# ax[0].set_title('box1', fontsize = 20.0)\n",
    "\n",
    "# g = [[] for i in range(na*NumCol)]\n",
    "# idx_col_act = [[] for i in range(na*NumCol)]\n",
    "# for i in range(na):\n",
    "#     for j in range(NumCol):\n",
    "#         idx_act = np.where(action_prev[:,0] == i)[0]\n",
    "#         idx_col = np.where(sensory_cue_prev[:,0] == j)[0]\n",
    "#         idx_col_act[i * NumCol + j] = list(np.intersect1d(idx_act, idx_col))\n",
    "\n",
    "#         g[i * NumCol + j] = ax[1].scatter(true_change[idx_col_act[i * NumCol + j],1]\n",
    "#                                           + 0.04 * (2 * np.random.random(true_change[idx_col_act[i * NumCol + j], 1].shape) - 1), \n",
    "#                                           predicted_change[idx_col_act[i * NumCol + j],1], \n",
    "#                                           color = colors[j], marker = markers[i])\n",
    "\n",
    "# ax[1].plot(line_x, line_y,c='k')\n",
    "# ax[1].set(xlim = [-1, 1], ylim = [-1, 1],xticks=[-1, 0, 1], yticks = [-1, 0, 1])\n",
    "# ax[1].tick_params(labelsize=14)\n",
    "# ax[1].set_title('box2', fontsize = 20.0)\n",
    "# #ax[1].set_xlabel('$\\hat{b}_{t+1}-\\hat{b}_t$', fontsize = 16)\n",
    "# #ax[1].set_ylabel('$\\hat{f}(\\hat{b}_t, o_t)-\\hat{b}_t$', fontsize = 16)\n",
    "\n",
    "\n",
    "# ax[1].legend(g, ['color1, do nothing',   'color2, do nothing',   'color3, do nothing',   'color4, do nothing',   'color5, do nothing',\n",
    "#                  'color1, go to center', 'color2, go to center', 'color3, go to center', 'color4, go to center', 'color5, go to center',\n",
    "#                  'color1, go to box1',   'color2, go to box1',   'color3, go to box1',   'color4, action 3',     'color5, action 3',\n",
    "#                  'color1, go to box2',   'color2, go to box2',   'color3, go to box2',   'color4, action 4',     'color5, action 4',\n",
    "#                  'color1, press button', 'color2, press button', 'color3, press button', 'color4, press button', 'color5, press button'],\n",
    "#              bbox_to_anchor=(1.1, 1.05), fontsize = 14)\n",
    "\n",
    "# fig=ax[0].figure\n",
    "# fig.text(0.45, -0.02, '$\\hat{b}_{t+1}-\\hat{b}_t$', va='center', ha='center', fontsize = 16)\n",
    "# fig.text(-0.02, 0.5, '$\\hat{f}(\\hat{b}_t, o_t)-\\hat{b}_t$', va='center', ha='center', rotation='vertical', fontsize = 16)\n",
    "# #fig_recoding_delta_behavior_jitter.savefig('figures/recoding_delta_behavior_jitter.pdf', format = 'pdf', bbox_inches=\"tight\")\n",
    "\n"
   ]
  },
  {
   "cell_type": "code",
   "execution_count": 45,
   "metadata": {},
   "outputs": [],
   "source": [
    "# # plot changes\n",
    "# line_x = np.linspace(-.9,.9,num=11)\n",
    "# line_y = np.linspace(-.9,.9,num=11)\n",
    "\n",
    "# #behavior_change = (regr_behavior.predict(X_behavior) - X_behavior[:,:2])\n",
    "# #neural_change = (regr_neural.predict(X_neural) - X_neural[:,:2])\n",
    "\n",
    "# true_change = (y_behavior - X_behavior[:,:2])\n",
    "# predic_X = regr_behavior.predict(X_behavior) # all data\n",
    "# predicted_change = (predic_X - X_behavior[:,:2])\n",
    "\n",
    "# fig_recoding_delta_behavior, ax = plt.subplots(1,2,figsize=(15,7))\n",
    "# plt.suptitle('comparison of behavior belief change', fontsize = 24)\n",
    "# fig_recoding_delta_behavior.tight_layout(rect=[0, 0, 0.9, 0.9])\n",
    "\n",
    "# h = [[] for i in range(na*NumCol)]\n",
    "# idx_col_act = [[] for i in range(na*NumCol)]\n",
    "# for i in range(na):\n",
    "#     for j in range(NumCol):\n",
    "#         idx_act = np.where(action_prev[:,0] == i)[0]\n",
    "#         idx_col = np.where(sensory_cue_prev[:,0] == j)[0]\n",
    "#         idx_col_act[i * NumCol + j] = list(np.intersect1d(idx_act, idx_col))\n",
    "\n",
    "#         h[i * NumCol + j] = ax[0].scatter(true_change[idx_col_act[i * NumCol + j],0], \n",
    "#                                           predicted_change[idx_col_act[i * NumCol + j],0], \n",
    "#                                           color = colors[j], marker = markers[i])\n",
    "# ax[0].plot(line_x, line_y,c='k')\n",
    "# ax[0].set(xlim = [-1, 1], ylim = [-1, 1],xticks=[-1, 0, 1], yticks = [-1, 0, 1])\n",
    "# ax[0].tick_params(labelsize=14)\n",
    "# ax[0].set_title('box1', fontsize = 20.0)\n",
    "\n",
    "# g = [[] for i in range(na*NumCol)]\n",
    "# idx_col_act = [[] for i in range(na*NumCol)]\n",
    "# for i in range(na):\n",
    "#     for j in range(NumCol):\n",
    "#         idx_act = np.where(action_prev[:,0] == i)[0]\n",
    "#         idx_col = np.where(sensory_cue_prev[:,0] == j)[0]\n",
    "#         idx_col_act[i * NumCol + j] = list(np.intersect1d(idx_act, idx_col))\n",
    "\n",
    "#         g[i * NumCol + j] = ax[1].scatter(true_change[idx_col_act[i * NumCol + j],1], \n",
    "#                                           predicted_change[idx_col_act[i * NumCol + j],1], \n",
    "#                                           color = colors[j], marker = markers[i])\n",
    "\n",
    "# ax[1].plot(line_x, line_y,c='k')\n",
    "# ax[1].set(xlim = [-1, 1], ylim = [-1, 1],xticks=[-1, 0, 1], yticks = [-1, 0, 1])\n",
    "# ax[1].tick_params(labelsize=14)\n",
    "# ax[1].set_title('box2', fontsize = 20.0)\n",
    "# #ax[1].set_xlabel('$\\hat{b}_{t+1}-\\hat{b}_t$', fontsize = 16)\n",
    "# #ax[1].set_ylabel('$\\hat{f}(\\hat{b}_t, o_t)-\\hat{b}_t$', fontsize = 16)\n",
    "\n",
    "\n",
    "# ax[1].legend(g, ['color1, do nothing',   'color2, do nothing',   'color3, do nothing',   'color4, do nothing',   'color5, do nothing',\n",
    "#                  'color1, go to center', 'color2, go to center', 'color3, go to center', 'color4, go to center', 'color5, go to center',\n",
    "#                  'color1, go to box1',   'color2, go to box1',   'color3, go to box1',   'color4, action 3',     'color5, action 3',\n",
    "#                  'color1, go to box2',   'color2, go to box2',   'color3, go to box2',   'color4, action 4',     'color5, action 4',\n",
    "#                  'color1, press button', 'color2, press button', 'color3, press button', 'color4, press button', 'color5, press button'],\n",
    "#              bbox_to_anchor=(1.1, 1.05), fontsize = 14)\n",
    "\n",
    "# fig=ax[0].figure\n",
    "# fig.text(0.45, -0.02, '$\\hat{b}_{t+1}-\\hat{b}_t$', va='center', ha='center', fontsize = 16)\n",
    "# fig.text(-0.02, 0.5, '$\\hat{f}(\\hat{b}_t, o_t)-\\hat{b}_t$', va='center', ha='center', rotation='vertical', fontsize = 16)\n",
    "# fig_recoding_delta_behavior.savefig('figures/recoding_delta_behavior.pdf', format = 'pdf', bbox_inches=\"tight\")\n",
    "\n",
    "\n"
   ]
  },
  {
   "cell_type": "code",
   "execution_count": null,
   "metadata": {},
   "outputs": [],
   "source": []
  },
  {
   "cell_type": "code",
   "execution_count": 46,
   "metadata": {},
   "outputs": [],
   "source": [
    "neural_color = 'blueviolet'"
   ]
  },
  {
   "cell_type": "code",
   "execution_count": 47,
   "metadata": {},
   "outputs": [
    {
     "name": "stdout",
     "output_type": "stream",
     "text": [
      "action 0 color 0 0.8988364957779785\n",
      "action 0 color 1 0.9334575631338903\n",
      "action 0 color 2 0.9392074340303704\n",
      "action 0 color 3 0.9031715976566943\n",
      "action 0 color 4 0.9097374473780322\n",
      "action 1 color 0 0.8896968864996218\n",
      "action 1 color 1 0.9214770158773276\n",
      "action 1 color 2 0.9229594586845695\n",
      "action 1 color 3 0.9048426573234934\n",
      "action 1 color 4 0.8564740178142488\n",
      "action 2 color 0 0.9415324107993802\n",
      "action 2 color 1 0.9416568063885074\n",
      "action 2 color 2 0.9166869892963906\n",
      "action 2 color 3 0.8837027913354829\n",
      "action 2 color 4 0.7498644299630428\n",
      "action 3 color 0 0.8438349071911856\n",
      "action 3 color 1 0.929288771063066\n",
      "action 3 color 2 0.9484048373394639\n",
      "action 3 color 3 0.9455254861451909\n",
      "action 3 color 4 0.9312221154029262\n",
      "action 4 color 0 0.9951866731222709\n",
      "action 4 color 1 0.9938354603587012\n",
      "action 4 color 2 0.992508608984612\n",
      "action 4 color 3 0.9913409663483425\n",
      "action 4 color 4 0.988186901503381\n"
     ]
    },
    {
     "data": {
      "text/plain": [
       "Text(-0.08,0.45,'Belief change predicted from neurons')"
      ]
     },
     "execution_count": 47,
     "metadata": {},
     "output_type": "execute_result"
    },
    {
     "data": {
      "image/png": "[encoded data removed]",
      "text/plain": [
       "<Figure size 360x720 with 2 Axes>"
      ]
     },
     "metadata": {},
     "output_type": "display_data"
    }
   ],
   "source": [
    "# plot changes\n",
    "line_x = np.linspace(-.9,.9,num=11)\n",
    "line_y = np.linspace(-.9,.9,num=11)\n",
    "\n",
    "behavior_change = (regr_behavior.predict(X_behavior) - X_behavior[:,:2])\n",
    "neural_change = (regr_neural.predict(X_neural) - X_neural[:,:2])\n",
    "\n",
    "fig_recoding_delta, ax = plt.subplots(2,1,figsize=(5,10))\n",
    "plt.suptitle('Recoding', fontsize = 24, fontweight='bold')\n",
    "fig_recoding_delta.tight_layout(rect=[0, 0, 0.9, 0.9])\n",
    "\n",
    "h = [[] for i in range(na*NumCol)]\n",
    "idx_col_act = [[] for i in range(na*NumCol)]\n",
    "for i in range(na):\n",
    "    for j in range(NumCol):\n",
    "        idx_act = np.where(action_prev[:,0] == i)[0]\n",
    "        idx_col = np.where(sensory_cue_prev[:,0] == j)[0]\n",
    "        idx_col_act[i * NumCol + j] = list(np.intersect1d(idx_act, idx_col))\n",
    "\n",
    "        h[i * NumCol + j] = ax[0].scatter(behavior_change[idx_col_act[i * NumCol + j],0], neural_change[idx_col_act[i * NumCol + j],0], \n",
    "                     color = rgb[j], marker = markers[i])\n",
    "ax[0].plot(line_x, line_y,c='k')\n",
    "ax[0].set(xlim = [-1, .5], ylim = [-1, .5],\n",
    "          xticks=[], yticks = [-1, -0.5, 0, 0.5])\n",
    "ax[0].tick_params(labelsize=14)\n",
    "#ax[0].set_title('box1', fontsize = 20.0)\n",
    "ax[0].spines['top'].set_visible(False)\n",
    "ax[0].spines['right'].set_visible(False)\n",
    "ax[0].text(-1, 0.6, '$\\Delta b^{\\check}_t$',  fontsize = 20.0, color = neural_color)\n",
    "ax[0].text(-.8, .2, 'box1',  fontsize = 20.0,\n",
    "        bbox={'facecolor': 'none', 'alpha': 0.5, 'pad': 8})\n",
    "for label in (ax[0].get_xticklabels() + ax[0].get_yticklabels()):\n",
    "    label.set_fontsize(18)\n",
    "\n",
    "\n",
    "#ax[0].set_xlabel('$\\hat{f}(\\hat{b}_t, o_t)-\\hat{b}_t$', fontsize = 16)\n",
    "#ax[0].set_ylabel('$\\check{f}(\\check{b}_t, o_t)-\\check{b}_t$', fontsize = 16)\n",
    "\n",
    "#plt.savefig('./figures/recoding_DELTA_KRR_box1.eps', format = 'eps')\n",
    "corre_mat = np.zeros((na, NumCol))\n",
    "g = [[] for i in range(na*NumCol)]\n",
    "idx_col_act = [[] for i in range(na*NumCol)]\n",
    "for i in range(na):\n",
    "    for j in range(NumCol):\n",
    "        idx_act = np.where(action_prev[:,0] == i)[0]\n",
    "        idx_col = np.where(sensory_cue_prev[:,1] == j)[0]\n",
    "        idx_col_act[i * NumCol + j] = list(np.intersect1d(idx_act, idx_col))\n",
    "\n",
    "        g[i * NumCol + j] = ax[1].scatter(behavior_change[idx_col_act[i * NumCol + j],1], neural_change[idx_col_act[i * NumCol + j],1], \n",
    "                     color = rgb[j], marker = markers[i])\n",
    "        x1 = behavior_change[idx_col_act[i * NumCol + j],1]\n",
    "        x2 = neural_change[idx_col_act[i * NumCol + j], 1]\n",
    "        print('action', i, 'color', j, np.corrcoef(x1, x2)[0, 1]) \n",
    "        corre_mat[i, j] = np.corrcoef(x1, x2)[0, 1]\n",
    "\n",
    "ax[1].plot(line_x, line_y,c='k')\n",
    "ax[1].set(xlim = [-1, .5], ylim = [-1, .5],\n",
    "          xticks=[-1, -0.5, 0, 0.5], yticks = [-1, -0.5, 0, 0.5])\n",
    "ax[1].tick_params(labelsize=14)\n",
    "ax[1].set_title('box2', fontsize = 20.0)\n",
    "#ax[1].set_xlabel('$\\hat{f}(\\hat{b}_t, o_t)-\\hat{b}_t$', fontsize = 16)\n",
    "#ax[1].set_ylabel('$\\check{f}(\\check{b}_t, o_t)-\\check{b}_t$', fontsize = 16)\n",
    "ax[1].spines['top'].set_visible(False)\n",
    "ax[1].spines['right'].set_visible(False)\n",
    "ax[1].text(0.6, -1.1, '$\\Delta\\hat{b}_t$',  fontsize = 20.0, color = neural_color)\n",
    "ax[1].text(-.8, .2, 'box2',  fontsize = 20.0,\n",
    "        bbox={'facecolor': 'none', 'alpha': 0.5, 'pad': 8})\n",
    "for label in (ax[1].get_xticklabels() + ax[1].get_yticklabels()):\n",
    "    #label.set_fontname('Arial')\n",
    "    label.set_fontsize(18)\n",
    "\n",
    "\n",
    "\n",
    "# ax[1].legend(g, ['color1, do nothing',   'color2, do nothing',   'color3, do nothing',   'color4, do nothing',   'color5, do nothing',\n",
    "#                  'color1, go to center', 'color2, go to center', 'color3, go to center', 'color4, go to center', 'color5, go to center',\n",
    "#                  'color1, go to box1',   'color2, go to box1',   'color3, go to box1',   'color4, action 3',     'color5, action 3',\n",
    "#                  'color1, go to box2',   'color2, go to box2',   'color3, go to box2',   'color4, action 4',     'color5, action 4',\n",
    "#                  'color1, press button', 'color2, press button', 'color3, press button', 'color4, press button', 'color5, press button'],\n",
    "#              bbox_to_anchor=(1.1, 1.05), fontsize = 14)\n",
    "\n",
    "\n",
    "\n",
    "fig=ax[0].figure\n",
    "# fig.text(0.45, -0.02, '$\\hat{f}(\\hat{b}_t, o_t)-\\hat{b}_t$', va='center', ha='center', fontsize = 16)\n",
    "# fig.text(-0.02, 0.5, '$\\check{f}(\\check{b}_t, o_t)-\\check{b}_t$', va='center', ha='center', rotation='vertical', fontsize = 16)\n",
    "fig.text(0.45, -0.06, 'Belief change \\n predicted from behavior', \n",
    "         va='center', ha='center', fontsize = 22, color=neural_color)\n",
    "fig.text(-0.08, 0.45, 'Belief change predicted from neurons', \n",
    "         va='center', ha='center', rotation='vertical', fontsize = 22, color=neural_color)\n",
    "\n",
    "#fig_recoding_delta.savefig('recoding_delta.pdf', format = 'pdf', bbox_inches=\"tight\")\n",
    "\n"
   ]
  },
  {
   "cell_type": "code",
   "execution_count": null,
   "metadata": {},
   "outputs": [],
   "source": []
  },
  {
   "cell_type": "code",
   "execution_count": 48,
   "metadata": {},
   "outputs": [
    {
     "name": "stderr",
     "output_type": "stream",
     "text": [
      "'cmunrm.otf' can not be subsetted into a Type 3 font. The entire font will be embedded in the output.\n",
      "'cmunrm.otf' can not be subsetted into a Type 3 font. The entire font will be embedded in the output.\n"
     ]
    },
    {
     "data": {
      "image/png": "[encoded data removed]",
      "text/plain": [
       "<Figure size 360x720 with 2 Axes>"
      ]
     },
     "metadata": {},
     "output_type": "display_data"
    }
   ],
   "source": [
    "\"\"\"\n",
    "test data\n",
    "\"\"\"\n",
    "# plot changes\n",
    "line_x = np.linspace(-.9,.9,num=11)\n",
    "line_y = np.linspace(-.9,.9,num=11)\n",
    "\n",
    "behavior_change = (regr_behavior.predict(X_behavior_test) - X_behavior_test[:,:2])\n",
    "neural_change = (regr_neural.predict(X_neural_test) - X_neural_test[:,:2])\n",
    "\n",
    "fig_recoding_delta, ax = plt.subplots(2,1,figsize=(5,10))\n",
    "plt.suptitle('Recoding', fontsize = 24, fontweight='bold')\n",
    "fig_recoding_delta.tight_layout(rect=[0, 0, 0.9, 0.9])\n",
    "\n",
    "h = [[] for i in range(na*NumCol)]\n",
    "idx_col_act = [[] for i in range(na*NumCol)]\n",
    "for i in range(na):\n",
    "    for j in range(NumCol):\n",
    "        idx_act = np.where(X_behavior_test[:, 2] == i)[0]  #action \n",
    "        idx_col = np.where(X_behavior_test[:,4] == j)[0]   #col1\n",
    "        idx_col_act[i * NumCol + j] = list(np.intersect1d(idx_act, idx_col))\n",
    "\n",
    "        h[i * NumCol + j] = ax[0].scatter(behavior_change[idx_col_act[i * NumCol + j],0], \n",
    "                                          neural_change[idx_col_act[i * NumCol + j],0], \n",
    "                     color = rgb[j], marker = markers[i])\n",
    "ax[0].plot(line_x, line_y,c='k')\n",
    "ax[0].set(xlim = [-1, .5], ylim = [-1, .5],\n",
    "          xticks=[], yticks = [-1, -0.5, 0, 0.5])\n",
    "ax[0].tick_params(labelsize=14)\n",
    "#ax[0].set_title('box1', fontsize = 20.0)\n",
    "ax[0].spines['top'].set_visible(False)\n",
    "ax[0].spines['right'].set_visible(False)\n",
    "ax[0].text(-1, 0.6, '$\\Delta b^{\\check}_t$',  fontsize = 20.0, color = neural_color)\n",
    "ax[0].text(-.8, .2, 'box1',  fontsize = 20.0,\n",
    "        bbox={'facecolor': 'none', 'alpha': 0.5, 'pad': 8})\n",
    "for label in (ax[0].get_xticklabels() + ax[0].get_yticklabels()):\n",
    "    label.set_fontsize(18)\n",
    "\n",
    "\n",
    "#ax[0].set_xlabel('$\\hat{f}(\\hat{b}_t, o_t)-\\hat{b}_t$', fontsize = 16)\n",
    "#ax[0].set_ylabel('$\\check{f}(\\check{b}_t, o_t)-\\check{b}_t$', fontsize = 16)\n",
    "\n",
    "#plt.savefig('./figures/recoding_DELTA_KRR_box1.eps', format = 'eps')\n",
    "corre_mat = np.zeros((na, NumCol))\n",
    "g = [[] for i in range(na*NumCol)]\n",
    "idx_col_act = [[] for i in range(na*NumCol)]\n",
    "for i in range(na):\n",
    "    for j in range(NumCol):\n",
    "        idx_act = np.where(X_behavior_test[:,2] == i)[0]  #action \n",
    "        idx_col = np.where(X_behavior_test[:,5] == j)[0]  #col2\n",
    "        idx_col_act[i * NumCol + j] = list(np.intersect1d(idx_act, idx_col))\n",
    "        #print(idx_act, idx_col)\n",
    "\n",
    "        g[i * NumCol + j] = ax[1].scatter(behavior_change[idx_col_act[i * NumCol + j],1], \n",
    "                                          neural_change[idx_col_act[i * NumCol + j],1], \n",
    "                     color = rgb[j], marker = markers[i])\n",
    "#         x1 = behavior_change[idx_col_act[i * NumCol + j],1]\n",
    "#         x2 = neural_change[idx_col_act[i * NumCol + j], 1]\n",
    "#         print('action', i, 'color', j, np.corrcoef(x1, x2)[0, 1]) \n",
    "#         corre_mat[i, j] = np.corrcoef(x1, x2)[0, 1]\n",
    "\n",
    "ax[1].plot(line_x, line_y,c='k')\n",
    "ax[1].set(xlim = [-1, .5], ylim = [-1, .5],\n",
    "          xticks=[-1, -0.5, 0, 0.5], yticks = [-1, -0.5, 0, 0.5])\n",
    "ax[1].tick_params(labelsize=14)\n",
    "ax[1].set_title('box2', fontsize = 20.0)\n",
    "#ax[1].set_xlabel('$\\hat{f}(\\hat{b}_t, o_t)-\\hat{b}_t$', fontsize = 16)\n",
    "#ax[1].set_ylabel('$\\check{f}(\\check{b}_t, o_t)-\\check{b}_t$', fontsize = 16)\n",
    "ax[1].spines['top'].set_visible(False)\n",
    "ax[1].spines['right'].set_visible(False)\n",
    "ax[1].text(0.6, -1.1, '$\\Delta\\hat{b}_t$',  fontsize = 20.0, color = neural_color)\n",
    "ax[1].text(-.8, .2, 'box2',  fontsize = 20.0,\n",
    "        bbox={'facecolor': 'none', 'alpha': 0.5, 'pad': 8})\n",
    "for label in (ax[1].get_xticklabels() + ax[1].get_yticklabels()):\n",
    "    #label.set_fontname('Arial')\n",
    "    label.set_fontsize(18)\n",
    "\n",
    "\n",
    "\n",
    "# ax[1].legend(g, ['color1, do nothing',   'color2, do nothing',   'color3, do nothing',   'color4, do nothing',   'color5, do nothing',\n",
    "#                  'color1, go to center', 'color2, go to center', 'color3, go to center', 'color4, go to center', 'color5, go to center',\n",
    "#                  'color1, go to box1',   'color2, go to box1',   'color3, go to box1',   'color4, action 3',     'color5, action 3',\n",
    "#                  'color1, go to box2',   'color2, go to box2',   'color3, go to box2',   'color4, action 4',     'color5, action 4',\n",
    "#                  'color1, press button', 'color2, press button', 'color3, press button', 'color4, press button', 'color5, press button'],\n",
    "#              bbox_to_anchor=(1.1, 1.05), fontsize = 14)\n",
    "\n",
    "\n",
    "\n",
    "fig=ax[0].figure\n",
    "# fig.text(0.45, -0.02, '$\\hat{f}(\\hat{b}_t, o_t)-\\hat{b}_t$', va='center', ha='center', fontsize = 16)\n",
    "# fig.text(-0.02, 0.5, '$\\check{f}(\\check{b}_t, o_t)-\\check{b}_t$', va='center', ha='center', rotation='vertical', fontsize = 16)\n",
    "fig.text(0.45, -0.06, 'Belief change \\n predicted from behavior', \n",
    "         va='center', ha='center', fontsize = 22, color=neural_color)\n",
    "fig.text(-0.08, 0.45, 'Belief change predicted from neurons', \n",
    "         va='center', ha='center', rotation='vertical', fontsize = 22, color=neural_color)\n",
    "\n",
    "fig_recoding_delta.savefig('recoding_delta.pdf', format = 'pdf', bbox_inches=\"tight\")\n",
    "\n",
    "\n"
   ]
  },
  {
   "cell_type": "code",
   "execution_count": null,
   "metadata": {},
   "outputs": [],
   "source": []
  }
 ],
 "metadata": {
  "@webio": {
   "lastCommId": null,
   "lastKernelId": null
  },
  "kernelspec": {
   "display_name": "Python 3",
   "language": "python",
   "name": "python3"
  },
  "language_info": {
   "codemirror_mode": {
    "name": "ipython",
    "version": 3
   },
   "file_extension": ".py",
   "mimetype": "text/x-python",
   "name": "python",
   "nbconvert_exporter": "python",
   "pygments_lexer": "ipython3",
   "version": "3.8.5"
  },
  "toc": {
   "base_numbering": 1,
   "nav_menu": {},
   "number_sections": true,
   "sideBar": true,
   "skip_h1_title": false,
   "title_cell": "Table of Contents",
   "title_sidebar": "Contents",
   "toc_cell": true,
   "toc_position": {},
   "toc_section_display": true,
   "toc_window_display": false
  }
 },
 "nbformat": 4,
 "nbformat_minor": 2
}
