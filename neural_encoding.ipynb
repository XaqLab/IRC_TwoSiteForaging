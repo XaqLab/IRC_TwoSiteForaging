{
 "cells": [
  {
   "cell_type": "markdown",
   "metadata": {
    "toc": true
   },
   "source": [
    "<h1>Table of Contents<span class=\"tocSkip\"></span></h1>\n",
    "<div class=\"toc\"><ul class=\"toc-item\"><li><ul class=\"toc-item\"><li><ul class=\"toc-item\"><li><span><a href=\"#there-are-3-types-of-data:-test-data,-train-data,-validation-data\" data-toc-modified-id=\"there-are-3-types-of-data:-test-data,-train-data,-validation-data-0.0.1\"><span class=\"toc-item-num\">0.0.1&nbsp;&nbsp;</span>there are 3 types of data: test data, train data, validation data</a></span></li><li><span><a href=\"#Linear-regression-model:-B-=-W-*-r-+-c\" data-toc-modified-id=\"Linear-regression-model:-B-=-W-*-r-+-c-0.0.2\"><span class=\"toc-item-num\">0.0.2&nbsp;&nbsp;</span>Linear regression model: B = W * r + c</a></span></li><li><span><a href=\"#evaluate-model-with-test-data\" data-toc-modified-id=\"evaluate-model-with-test-data-0.0.3\"><span class=\"toc-item-num\">0.0.3&nbsp;&nbsp;</span>evaluate model with test data</a></span></li><li><span><a href=\"#build-neural-belief-data-using-the-learned-model\" data-toc-modified-id=\"build-neural-belief-data-using-the-learned-model-0.0.4\"><span class=\"toc-item-num\">0.0.4&nbsp;&nbsp;</span>build neural belief data using the learned model</a></span></li></ul></li></ul></li><li><span><a href=\"#\" data-toc-modified-id=\"-1\"><span class=\"toc-item-num\">1&nbsp;&nbsp;</span></a></span></li></ul></div>"
   ]
  },
  {
   "cell_type": "code",
   "execution_count": 1,
   "metadata": {},
   "outputs": [],
   "source": [
    "\"\"\"\n",
    "written by Minhae Kwon, modified by Zhengwei Wu \n",
    "Linear regression for \"Encoding\" Process\n",
    "This code works very well!\n",
    "\n",
    "ref: https://chrisalbon.com/machine_learning/linear_regression/linear_regression_using_scikit-learn/\n",
    "     https://datatofish.com/multiple-linear-regression-python/\n",
    "\n",
    "cross validate score: Coefficient of determination\n",
    "https://en.wikipedia.org/wiki/Coefficient_of_determination\n",
    "\"\"\"\n",
    "\n",
    "from pandas import DataFrame, read_csv\n",
    "#from sklearn.preprocessing import StandardScaler\n",
    "from sklearn.linear_model import LinearRegression\n",
    "from sklearn.model_selection import train_test_split\n",
    "from sklearn.model_selection import cross_val_score, StratifiedKFold\n",
    "from sklearn.model_selection import StratifiedKFold\n",
    "from sklearn.metrics import r2_score\n",
    "#from sklearn.pipeline import Pipeline\n",
    "import numpy as np\n",
    "import matplotlib.pyplot as plt\n",
    "import pandas as pd\n",
    "\n",
    "# hyperparameters\n",
    "TEST_SIZE = 0.2  # ratio of test data set \n",
    "N_SPLITS = 10 # \"K\" in K-fold cross validation "
   ]
  },
  {
   "cell_type": "code",
   "execution_count": 2,
   "metadata": {},
   "outputs": [],
   "source": [
    "import matplotlib as mpl\n",
    "import matplotlib.pyplot as plt\n",
    "# pdf.fontype and ps.fontype must be set to 42 in order for text in exported figure to be editable in Adobe Illustrator\n",
    "mpl.rcParams['pdf.fonttype'] = 42\n",
    "mpl.rcParams['ps.fonttype'] = 42\n",
    "\n",
    "plt.rcParams[\"font.family\"] = \"CMU Serif\"\n",
    "\n"
   ]
  },
  {
   "cell_type": "code",
   "execution_count": 3,
   "metadata": {},
   "outputs": [],
   "source": [
    "# read data\n",
    "bb_df = read_csv('./data/bb_df.csv') #behavior belief =[belief for box1, beleif for box2]\n",
    "r_df = read_csv('./data/r_df.csv') # 100 neuron response"
   ]
  },
  {
   "cell_type": "markdown",
   "metadata": {},
   "source": [
    "### there are 3 types of data: test data, train data, validation data"
   ]
  },
  {
   "cell_type": "code",
   "execution_count": 4,
   "metadata": {},
   "outputs": [],
   "source": [
    "# separate test data set\n",
    "r_df_train, r_df_test, bb_df_train, bb_df_test = train_test_split(r_df, bb_df, test_size=TEST_SIZE, random_state = 1)"
   ]
  },
  {
   "cell_type": "code",
   "execution_count": 22,
   "metadata": {},
   "outputs": [
    {
     "data": {
      "text/plain": [
       "(16000, 100)"
      ]
     },
     "execution_count": 22,
     "metadata": {},
     "output_type": "execute_result"
    }
   ],
   "source": [
    "r_df_train.shape"
   ]
  },
  {
   "cell_type": "code",
   "execution_count": 5,
   "metadata": {},
   "outputs": [],
   "source": [
    "# linear regression is used for encoding process\n",
    "regr = LinearRegression(n_jobs = -1) # n_jobs = -1: parallelize taks to use all cpu cores in your machine"
   ]
  },
  {
   "cell_type": "code",
   "execution_count": 6,
   "metadata": {},
   "outputs": [],
   "source": [
    "# now we use only train data \n",
    "# why use StratifiedKFold?: The folds are made by preserving the percentage of samples for each class.\n",
    "X = r_df_train.to_numpy()\n",
    "y = bb_df_train.to_numpy()\n",
    "k_fold = StratifiedKFold(n_splits=N_SPLITS) # seperate train data and validation data"
   ]
  },
  {
   "cell_type": "code",
   "execution_count": 7,
   "metadata": {},
   "outputs": [
    {
     "name": "stdout",
     "output_type": "stream",
     "text": [
      "score [0.94607343 0.96460421]\n",
      "score [0.94210557 0.96719142]\n",
      "score [0.94606846 0.96564456]\n",
      "score [0.94840315 0.96333097]\n",
      "score [0.94583238 0.96749751]\n",
      "score [0.9484271  0.96227921]\n",
      "score [0.94490721 0.9629764 ]\n",
      "score [0.94899425 0.96383938]\n",
      "score [0.94256708 0.9634059 ]\n",
      "score [0.95023253 0.96487268]\n"
     ]
    }
   ],
   "source": [
    "# why argmax(1)? split cannot simply handle multidimension y. \n",
    "# ref: https://stackoverflow.com/questions/48508036/sklearn-stratifiedkfold-valueerror-supported-target-types-are-binary-mul\n",
    "for i, (train_index, val_index) in enumerate(k_fold.split(X, y.argmax(1))):\n",
    "    x_train_kf, x_val_kf = X[train_index], X[val_index]\n",
    "    y_train_kf, y_val_kf = y[train_index], y[val_index]\n",
    "    regr.fit(x_train_kf, y_train_kf) # fit the model\n",
    "    nb_val = regr.predict(x_val_kf) # predict based on current model -> use validation data for evaluation\n",
    "    print('score', r2_score(y_val_kf, nb_val, multioutput='raw_values')) # get r^2 score"
   ]
  },
  {
   "cell_type": "markdown",
   "metadata": {},
   "source": [
    "### Linear regression model: B = W * r + c "
   ]
  },
  {
   "cell_type": "code",
   "execution_count": 8,
   "metadata": {},
   "outputs": [
    {
     "name": "stdout",
     "output_type": "stream",
     "text": [
      "Intercept:  [0.04252137 0.37150612]\n",
      "Coef:  [[-7.10895602e-01  1.80012789e-01  8.67413097e-02  8.24642875e-02\n",
      "  -1.97557005e-02  1.34251865e-01  8.08297418e-02  3.60320742e-02\n",
      "   6.80391504e-02 -2.99511450e-01  3.57181318e-01  5.91749170e-01\n",
      "   3.51609437e-02 -1.88462981e-01 -1.04955899e-03  1.24486007e-01\n",
      "   1.64516468e-01 -3.27198410e-04  5.42315746e-01 -2.49562887e-01\n",
      "  -7.92409965e-03 -2.56738233e-01 -3.66067593e-01  9.23172359e-02\n",
      "  -5.41251761e-02  6.19467212e-01 -6.33234462e-02 -1.57810612e-02\n",
      "  -2.17461262e-02 -1.31455540e-02 -3.38482364e-01  2.29909202e-01\n",
      "  -2.19702129e-01  2.72408100e-02 -9.43849154e-02 -1.05292371e-02\n",
      "  -4.35298505e-01  1.05205708e-01  5.96381708e-01 -7.97842009e-01\n",
      "   8.53594591e-02  3.84171245e-02 -1.00261657e-01 -2.17585388e-01\n",
      "  -3.25154538e-01  1.45847030e-01  7.06878811e-01  2.97623408e-01\n",
      "  -2.41096452e-01 -3.05675927e-01  7.64043078e-02 -5.55676532e-01\n",
      "  -2.75102239e-02 -4.51175585e-03 -2.47226463e-01  6.43720703e-02\n",
      "  -2.05233965e-03  4.12377548e-01  2.95578363e-01 -1.85409906e-01\n",
      "   6.39528511e-03 -4.45355653e-02 -5.91337324e-02  5.25003347e-01\n",
      "  -2.20393503e-01 -2.63974012e-01 -3.24397012e-01 -7.77883047e-02\n",
      "   6.11642048e-02 -6.30355854e-02 -1.15741607e-01 -1.26742263e-01\n",
      "  -2.17058181e-01 -4.67817884e-01 -2.06638885e-01  1.02526522e-01\n",
      "  -3.23392476e-01 -3.40447925e-01  1.10629164e-01 -3.61873600e-01\n",
      "  -1.93771843e-01 -2.11482863e-02  6.58836300e-02  3.57302972e-01\n",
      "  -1.02695143e-01 -2.02651421e-02  2.68827914e-01  3.11656621e-01\n",
      "   3.29219483e-02 -3.45631682e-02 -6.94652397e-02 -1.50683249e-01\n",
      "   4.88804768e-02 -2.88700717e-01 -1.36327865e-01  1.49680476e-01\n",
      "   3.38042263e-02  1.84933428e-01  2.86284665e-01  1.44476046e-01]\n",
      " [ 2.01012313e-01  3.23023440e-01 -3.63142471e-01 -3.71824932e-01\n",
      "  -2.36265449e-01  8.82779922e-02  9.53130550e-02  4.25061492e-01\n",
      "  -2.01038416e-02  1.12033408e-01  1.06505575e-01 -2.39864538e-01\n",
      "  -2.33291823e-02 -3.54558484e-01  2.25749327e-01 -2.42462777e-01\n",
      "   5.41959249e-02 -1.13483329e-01  1.47925291e-01 -4.29210842e-01\n",
      "   5.37344272e-01 -1.00155418e-01 -3.81766461e-02  1.12139798e-01\n",
      "   6.75502013e-01  8.32131822e-02  2.74398436e-01 -3.44490337e-02\n",
      "   9.65179787e-02  2.20931985e-01 -2.21074752e-01 -5.76647505e-01\n",
      "   2.59360049e-01  5.06462046e-01  6.08578876e-02 -1.25776534e-01\n",
      "  -2.36498340e-01  1.01078434e-01 -1.88467397e-01  2.47354355e-01\n",
      "   1.60582576e-01  2.98119260e-01  4.75426231e-01  3.59610313e-01\n",
      "  -3.09261412e-01 -1.03282361e+00  1.12699158e-01 -1.20989563e-01\n",
      "  -1.05526191e-01 -2.71148564e-01 -4.28882064e-01  9.30240179e-02\n",
      "  -4.60317270e-01  1.32759566e-01  2.49995523e-01 -1.18031603e-01\n",
      "   2.33520269e-01 -1.36543320e-01  2.47358275e-01 -2.82622593e-01\n",
      "  -2.08579646e-02  7.26436446e-02 -4.15322827e-02  2.82457401e-01\n",
      "  -2.74729612e-01  2.65146659e-01 -5.24205298e-01  4.42842961e-01\n",
      "   8.82659026e-02 -1.25430435e-01  2.11672864e-01 -1.47994072e-02\n",
      "   2.60219536e-01  5.63249087e-02 -1.96580291e-01  7.91424609e-02\n",
      "  -3.25997505e-01 -3.87674253e-02 -1.28740992e-01 -2.87552917e-01\n",
      "   4.01663611e-02  3.97111536e-01 -4.17540764e-01 -1.98212043e-01\n",
      "   9.19569440e-02 -5.32693844e-02 -8.28320028e-02  5.17819811e-02\n",
      "   7.28739502e-02 -3.08474845e-01 -1.85193022e-02  2.89926579e-01\n",
      "  -2.12275817e-01 -1.34857318e-01  3.96986412e-03  4.66553427e-01\n",
      "  -4.08274893e-01 -2.84862033e-01  4.67153218e-01  3.26658944e-01]]\n"
     ]
    }
   ],
   "source": [
    "\"\"\"\n",
    "c = Intercept\n",
    "B (behavior belief) N x 2 dimension (N: # of data)\n",
    "W (Coef): 2 x 300 dimension\n",
    "r(neural response - 300 neurons) N x 300 dimension\n",
    "\"\"\"\n",
    "\n",
    "print('Intercept: ', regr.intercept_)\n",
    "print('Coef: ', regr.coef_)\n"
   ]
  },
  {
   "cell_type": "code",
   "execution_count": 9,
   "metadata": {},
   "outputs": [],
   "source": [
    "import os\n",
    "import pickle\n",
    "path = os.getcwd()\n",
    "encoding_params = [regr.coef_,regr.intercept_]"
   ]
  },
  {
   "cell_type": "code",
   "execution_count": 10,
   "metadata": {},
   "outputs": [],
   "source": [
    "encoding_params = {'encoding_params': encoding_params}\n",
    "\n",
    "# create a file that saves the parameter dictionary using pickle\n",
    "para_output = open(path + '/Results/encoding_params_twoboxCol' + '.pkl', 'wb')\n",
    "pickle.dump(encoding_params, para_output)\n",
    "para_output.close()\n"
   ]
  },
  {
   "cell_type": "markdown",
   "metadata": {},
   "source": [
    "### evaluate model with test data"
   ]
  },
  {
   "cell_type": "code",
   "execution_count": 11,
   "metadata": {
    "scrolled": true
   },
   "outputs": [
    {
     "name": "stdout",
     "output_type": "stream",
     "text": [
      "encoding mean squared error: \n",
      " behavior_belief1    0.002735\n",
      "behavior_belief2    0.002674\n",
      "dtype: float64\n",
      "encoding error std:\n",
      " behavior_belief1    0.052291\n",
      "behavior_belief2    0.051710\n",
      "dtype: float64\n",
      "score [0.94549446 0.96596505]\n"
     ]
    }
   ],
   "source": [
    "nb_test = regr.predict(r_df_test)\n",
    "\n",
    "encoding_error = bb_df_test - nb_test # true - estimate\n",
    "print('encoding mean squared error: \\n', np.mean(encoding_error**2, axis=0))\n",
    "print('encoding error std:\\n', np.std(encoding_error, axis=0))\n",
    "print('score', r2_score(bb_df_test, nb_test, multioutput='raw_values'))"
   ]
  },
  {
   "cell_type": "code",
   "execution_count": 12,
   "metadata": {},
   "outputs": [],
   "source": [
    "nb_df_test = DataFrame(nb_test, columns = bb_df.columns) "
   ]
  },
  {
   "cell_type": "code",
   "execution_count": 13,
   "metadata": {},
   "outputs": [
    {
     "data": {
      "text/plain": [
       "array([0.05, 0.15, 0.25, 0.35, 0.45, 0.55, 0.65, 0.75, 0.85, 0.95])"
      ]
     },
     "execution_count": 13,
     "metadata": {},
     "output_type": "execute_result"
    }
   ],
   "source": [
    "nq = 10\n",
    "belief_array = (np.arange(nq) + 0.5) / nq\n",
    "belief_array"
   ]
  },
  {
   "cell_type": "code",
   "execution_count": 14,
   "metadata": {},
   "outputs": [],
   "source": [
    "# # plot: compare raw data vs prediction\n",
    "# S = 5 # dot size for scatter plot\n",
    "# plt.scatter(bb_df_test['behavior_belief1'], nb_df_test['behavior_belief1'], s=5, c='blue', marker='o')\n",
    "# plt.xlabel('Beliefs from behavior model (true)')\n",
    "# plt.ylabel('Beliefs from neural code (estimated)')\n",
    "# plt.plot(belief_array, belief_array, c='b')\n",
    "# plt.xlim([0,1])\n",
    "# plt.ylim([0,1])\n",
    "# plt.title('Encoding: Box 1 (test data)')\n",
    "# plt.show()\n",
    "\n",
    "# plt.scatter(bb_df_test['behavior_belief2'], nb_df_test['behavior_belief2'], s=5, c='red', marker='x')\n",
    "# plt.xlabel('Beliefs from behavior model (true)')\n",
    "# plt.ylabel('Beliefs from neural code (estimated)')\n",
    "# plt.plot(belief_array, belief_array, c='red')\n",
    "# plt.xlim([0,1])\n",
    "# plt.ylim([0,1])\n",
    "# plt.title('Encoding: Box 2 (test data)')\n",
    "# plt.show()"
   ]
  },
  {
   "cell_type": "code",
   "execution_count": 15,
   "metadata": {},
   "outputs": [],
   "source": [
    "neural_color = 'blueviolet'"
   ]
  },
  {
   "cell_type": "code",
   "execution_count": 16,
   "metadata": {},
   "outputs": [
    {
     "name": "stderr",
     "output_type": "stream",
     "text": [
      "'cmunrm.otf' can not be subsetted into a Type 3 font. The entire font will be embedded in the output.\n",
      "'cmunrm.otf' can not be subsetted into a Type 3 font. The entire font will be embedded in the output.\n"
     ]
    },
    {
     "data": {
      "image/png": "[encoded data removed]",
      "text/plain": [
       "<Figure size 360x720 with 2 Axes>"
      ]
     },
     "metadata": {},
     "output_type": "display_data"
    }
   ],
   "source": [
    "fig_encoding, ax = plt.subplots(2,1,figsize=(5,10))\n",
    "plt.suptitle('Encoding', fontsize = 24, fontweight='bold')\n",
    "fig_encoding.tight_layout(rect=[0, 0.1, 0.9, 0.9])\n",
    "\n",
    "ax[0].scatter(bb_df_test['behavior_belief1'], nb_df_test['behavior_belief1'],\n",
    "              s=10, c=[(130/255,0,1)], marker='.')\n",
    "ax[0].plot(belief_array, belief_array, c='black')\n",
    "ax[0].set(xlim = [0,1], ylim = [0,1],xticks=[], yticks = [0, 1])\n",
    "ax[0].tick_params(labelsize=14)\n",
    "#ax[0].set_title('box1', fontsize = 20.0)\n",
    "ax[0].spines['top'].set_visible(False)\n",
    "ax[0].spines['right'].set_visible(False)\n",
    "ax[0].text(0, 1.02, '$b^{\\check}_t$',  fontsize = 20.0, color = neural_color)\n",
    "ax[0].text(.1, .8, 'box1',  fontsize = 20.0,\n",
    "        bbox={'facecolor': 'none', 'alpha': 0.5, 'pad': 8})\n",
    "for label in (ax[0].get_xticklabels() + ax[0].get_yticklabels()):\n",
    "    #label.set_fontname('Arial')\n",
    "    label.set_fontsize(18)\n",
    "    \n",
    "\n",
    "ax[1].scatter(bb_df_test['behavior_belief2'], nb_df_test['behavior_belief2'], \n",
    "              s=5, c=[(130/255,0,1)], marker='.')\n",
    "ax[1].plot(belief_array, belief_array, c='black')\n",
    "ax[1].set(xlim = [0,1], ylim = [0,1],xticks=[0, 1], yticks = [0, 1])\n",
    "ax[1].tick_params(labelsize=14)\n",
    "#ax[1].set_title('box2', fontsize = 20.0)\n",
    "ax[1].spines['top'].set_visible(False)\n",
    "ax[1].spines['right'].set_visible(False)\n",
    "ax[1].text(1.02, 0, '$\\hat{b}_t$',  fontsize = 20.0, color = neural_color)\n",
    "ax[1].text(.1, .8, 'box2',  fontsize = 20.0,\n",
    "        bbox={'facecolor': 'none', 'alpha': 0.5, 'pad': 8})\n",
    "for label in (ax[1].get_xticklabels() + ax[1].get_yticklabels()):\n",
    "    #label.set_fontname('Arial')\n",
    "    label.set_fontsize(18)\n",
    "\n",
    "fig=ax[0].figure\n",
    "fig.text(0.45, 0.08, 'Belief \\n predicted from behavior', color=neural_color,\n",
    "         va='center', ha='center', fontsize = 22)\n",
    "fig.text(0, 0.5, 'Belief predicted from neurons', color=neural_color,\n",
    "         va='center', ha='center', rotation='vertical', fontsize = 22)\n",
    "fig_encoding.savefig('encoding.pdf', format = 'pdf', \n",
    "                     bbox_inches=\"tight\")"
   ]
  },
  {
   "cell_type": "markdown",
   "metadata": {},
   "source": [
    "### build neural belief data using the learned model"
   ]
  },
  {
   "cell_type": "code",
   "execution_count": 17,
   "metadata": {},
   "outputs": [],
   "source": [
    "#neural estimate of belief using current linear regression model\n",
    "nb= regr.predict(r_df)  # input is ALL data\n",
    "nb_df = DataFrame(nb, columns = bb_df.columns)\n",
    "#save neural estimate belief\n",
    "nb_df.to_csv(path_or_buf='./data/nb_df.csv',index=False)"
   ]
  },
  {
   "cell_type": "code",
   "execution_count": 18,
   "metadata": {},
   "outputs": [],
   "source": [
    "# # plot: compare raw data vs prediction\n",
    "# S = 5 # dot size for scatter plot\n",
    "# plt.scatter(bb_df['behavior_belief1'], nb_df['behavior_belief1'], s=S, c='blue', marker='.')\n",
    "# plt.xlabel('Beliefs from behavior model (true)')\n",
    "# plt.ylabel('Beliefs from neural code (estimated)')\n",
    "# plt.plot(belief_array, belief_array, c='b')\n",
    "# plt.xlim([0,1])\n",
    "# plt.ylim([0,1])\n",
    "# plt.title('Encoding: Box 1 (ALL data)')\n",
    "# plt.show()\n",
    "\n",
    "# plt.scatter(bb_df['behavior_belief2'], nb_df['behavior_belief2'], s=S, c='red', marker='.')\n",
    "# plt.xlabel('Beliefs from behavior model (true)')\n",
    "# plt.ylabel('Beliefs from neural code (estimated)')\n",
    "# plt.plot(belief_array, belief_array, c='r')\n",
    "# plt.xlim([0,1])\n",
    "# plt.ylim([0,1])\n",
    "# plt.title('Encoding: Box 2 (ALL data)')\n",
    "# plt.show()\n"
   ]
  },
  {
   "cell_type": "code",
   "execution_count": 19,
   "metadata": {},
   "outputs": [],
   "source": [
    "# fig_encoding, ax = plt.subplots(2,1,figsize=(7,15))\n",
    "# plt.suptitle('Encoding', fontsize = 24)\n",
    "# fig_encoding.tight_layout(rect=[0, 0.1, 0.9, 0.9])\n",
    "\n",
    "# ax[0].scatter(bb_df['behavior_belief1'], nb_df['behavior_belief1'], s=S, c='blue', marker='.')\n",
    "# ax[0].plot(belief_array, belief_array, c='b')\n",
    "# ax[0].set(xlim = [0,1], ylim = [0,1],xticks=[0, 1], yticks = [0, 1])\n",
    "# ax[0].tick_params(labelsize=14)\n",
    "# ax[0].set_title('box1', fontsize = 20.0)\n",
    "# ax[0].spines['top'].set_visible(False)\n",
    "# ax[0].spines['right'].set_visible(False)\n",
    "\n",
    "# ax[1].scatter(bb_df['behavior_belief2'], nb_df['behavior_belief2'], s=S, c='red', marker='.')\n",
    "# ax[1].plot(belief_array, belief_array, c='r')\n",
    "# ax[1].set(xlim = [0,1], ylim = [0,1],xticks=[0, 1], yticks = [0, 1])\n",
    "# ax[1].tick_params(labelsize=14)\n",
    "# ax[1].set_title('box2', fontsize = 20.0)\n",
    "\n",
    "# fig=ax[0].figure\n",
    "# fig.text(0.45, 0.08, 'Beliefs from behavior model $\\hat{b}_t$', va='center', ha='center', fontsize = 18)\n",
    "# fig.text(0, 0.5, 'Beliefs from neural encoding $\\check{b}_t$', va='center', ha='center', rotation='vertical', fontsize = 18)\n",
    "# #fig_encoding.savefig('figures/encoding.pdf', format = 'pdf', bbox_inches=\"tight\")\n",
    "\n",
    "\n"
   ]
  },
  {
   "cell_type": "code",
   "execution_count": 20,
   "metadata": {},
   "outputs": [],
   "source": [
    "# fig_encoding, ax = plt.subplots(2,1,figsize=(5,10))\n",
    "# plt.suptitle('Encoding', fontsize = 24, fontweight='bold')\n",
    "# fig_encoding.tight_layout(rect=[0, 0.1, 0.9, 0.9])\n",
    "\n",
    "# ax[0].scatter(bb_df['behavior_belief1'], nb_df['behavior_belief1'],\n",
    "#               s=10, c=neural_color, marker='.')\n",
    "# ax[0].plot(belief_array, belief_array, c='black')\n",
    "# ax[0].set(xlim = [0,1], ylim = [0,1],xticks=[], yticks = [0, 1])\n",
    "# ax[0].tick_params(labelsize=14)\n",
    "# #ax[0].set_title('box1', fontsize = 20.0)\n",
    "# ax[0].spines['top'].set_visible(False)\n",
    "# ax[0].spines['right'].set_visible(False)\n",
    "# ax[0].text(0, 1.02, '$b^{\\check}_t$',  fontsize = 20.0, color = neural_color)\n",
    "# ax[0].text(.1, .8, 'box1',  fontsize = 20.0,\n",
    "#         bbox={'facecolor': 'none', 'alpha': 0.5, 'pad': 8})\n",
    "# for label in (ax[0].get_xticklabels() + ax[0].get_yticklabels()):\n",
    "#     #label.set_fontname('Arial')\n",
    "#     label.set_fontsize(18)\n",
    "    \n",
    "\n",
    "# ax[1].scatter(bb_df['behavior_belief2'], nb_df['behavior_belief2'], \n",
    "#               s=5, c=neural_color, marker='.')\n",
    "# ax[1].plot(belief_array, belief_array, c='black')\n",
    "# ax[1].set(xlim = [0,1], ylim = [0,1],xticks=[0, 1], yticks = [0, 1])\n",
    "# ax[1].tick_params(labelsize=14)\n",
    "# #ax[1].set_title('box2', fontsize = 20.0)\n",
    "# ax[1].spines['top'].set_visible(False)\n",
    "# ax[1].spines['right'].set_visible(False)\n",
    "# ax[1].text(1.02, 0, '$\\hat{b}_t$',  fontsize = 20.0, color = neural_color)\n",
    "# ax[1].text(.1, .8, 'box2',  fontsize = 20.0,\n",
    "#         bbox={'facecolor': 'none', 'alpha': 0.5, 'pad': 8})\n",
    "# for label in (ax[1].get_xticklabels() + ax[1].get_yticklabels()):\n",
    "#     #label.set_fontname('Arial')\n",
    "#     label.set_fontsize(18)\n",
    "\n",
    "# fig=ax[0].figure\n",
    "# fig.text(0.45, 0.08, 'Belief \\n predicted from behavior', color=neural_color,\n",
    "#          va='center', ha='center', fontsize = 22)\n",
    "# fig.text(0, 0.5, 'Belief predicted from neurons', color=neural_color,\n",
    "#          va='center', ha='center', rotation='vertical', fontsize = 22)\n",
    "# fig_encoding.savefig('encoding.pdf', format = 'pdf', \n",
    "#                      bbox_inches=\"tight\")"
   ]
  },
  {
   "cell_type": "code",
   "execution_count": 21,
   "metadata": {},
   "outputs": [],
   "source": [
    "# fig_encoding_jitter, ax = plt.subplots(1,2,figsize=(15,7))\n",
    "# plt.suptitle('encoding of neural activity', fontsize = 24)\n",
    "# fig_encoding_jitter.tight_layout(rect=[0, 0.1, 0.9, 0.9])\n",
    "\n",
    "# ax[0].scatter(bb_df['behavior_belief1'] + 0.06 * (2 * np.random.random(bb_df['behavior_belief1'].shape)-1), nb_df['behavior_belief1'], s=S, c='blue', marker='o')\n",
    "# ax[0].plot(belief_array, belief_array, c='b')\n",
    "# ax[0].set(xlim = [0,1], ylim = [0,1],xticks=[0, 1], yticks = [0, 1])\n",
    "# ax[0].tick_params(labelsize=14)\n",
    "# ax[0].set_title('box1', fontsize = 20.0)\n",
    "\n",
    "# ax[1].scatter(bb_df['behavior_belief2']+ 0.06 * (2 * np.random.random(bb_df['behavior_belief1'].shape)-1), nb_df['behavior_belief2'], s=S, c='red', marker='x')\n",
    "# ax[1].plot(belief_array, belief_array, c='r')\n",
    "# ax[1].set(xlim = [0,1], ylim = [0,1],xticks=[0, 1], yticks = [0, 1])\n",
    "# ax[1].tick_params(labelsize=14)\n",
    "# ax[1].set_title('box2', fontsize = 20.0)\n",
    "\n",
    "# fig=ax[0].figure\n",
    "# fig.text(0.45, 0.08, 'Beliefs from behavior model $\\hat{b}_t$', va='center', ha='center', fontsize = 18)\n",
    "# fig.text(0, 0.5, 'Beliefs from neural encoding $\\check{b}_t$', va='center', ha='center', rotation='vertical', fontsize = 18)\n",
    "# fig_encoding_jitter.savefig('figures/encoding_jitter.pdf', format = 'pdf', bbox_inches=\"tight\")\n",
    "\n",
    "\n",
    "\n"
   ]
  },
  {
   "cell_type": "markdown",
   "metadata": {},
   "source": [
    "# "
   ]
  },
  {
   "cell_type": "code",
   "execution_count": null,
   "metadata": {},
   "outputs": [],
   "source": []
  }
 ],
 "metadata": {
  "kernelspec": {
   "display_name": "Python 3",
   "language": "python",
   "name": "python3"
  },
  "language_info": {
   "codemirror_mode": {
    "name": "ipython",
    "version": 3
   },
   "file_extension": ".py",
   "mimetype": "text/x-python",
   "name": "python",
   "nbconvert_exporter": "python",
   "pygments_lexer": "ipython3",
   "version": "3.8.5"
  },
  "toc": {
   "base_numbering": 1,
   "nav_menu": {},
   "number_sections": true,
   "sideBar": true,
   "skip_h1_title": false,
   "title_cell": "Table of Contents",
   "title_sidebar": "Contents",
   "toc_cell": true,
   "toc_position": {},
   "toc_section_display": true,
   "toc_window_display": false
  }
 },
 "nbformat": 4,
 "nbformat_minor": 2
}
